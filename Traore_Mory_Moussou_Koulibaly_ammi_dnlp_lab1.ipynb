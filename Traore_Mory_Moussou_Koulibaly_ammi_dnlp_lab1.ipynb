{
  "nbformat": 4,
  "nbformat_minor": 0,
  "metadata": {
    "accelerator": "TPU",
    "colab": {
      "name": "Traore_Mory_Moussou_Koulibaly_ammi_dnlp_lab1.ipynb",
      "provenance": [],
      "collapsed_sections": [
        "N4UnbCdcqHPu"
      ],
      "toc_visible": true
    },
    "kernelspec": {
      "display_name": "Python 3",
      "language": "python",
      "name": "python3"
    },
    "language_info": {
      "codemirror_mode": {
        "name": "ipython",
        "version": 3
      },
      "file_extension": ".py",
      "mimetype": "text/x-python",
      "name": "python",
      "nbconvert_exporter": "python",
      "pygments_lexer": "ipython3",
      "version": "3.7.4"
    }
  },
  "cells": [
    {
      "cell_type": "markdown",
      "metadata": {
        "id": "uzAMazBhyO7O"
      },
      "source": [
        "# AMMI Deep Natural Language Processing: Lab 1"
      ]
    },
    {
      "cell_type": "markdown",
      "metadata": {
        "id": "z2oBLu8PyV1V"
      },
      "source": [
        "## 0. Introduction"
      ]
    },
    {
      "cell_type": "markdown",
      "metadata": {
        "id": "NHed26lWcGwQ"
      },
      "source": [
        "In this tutorial we will train neural networks on the bAbI tasks using ParlAI framework.  \n",
        "This tutorial can be run both in google colab or on your computer.  \n",
        "The solutions will be added during the lab [here](https://fburl.com/ammi_dnlp_lab1).  \n",
        "\n",
        "We will cover the following:\n",
        "0. Introduction\n",
        "    - Introduction to ParlAI and installation\n",
        "    - Introduction to the bAbI tasks\n",
        "1. Exploring the data:\n",
        "    - Compute some statistics (number of examples in train, valid, test, size of examples...)\n",
        "    - Look at some examples\n",
        "2. Choose the appropriate metrics\n",
        "3. Baselines\n",
        "    - Ranom baseline\n",
        "    - Majority class baseline\n",
        "    - Information retrieval baseline\n",
        "4. More elaborate models\n",
        "   - Generative model: Seq2Seq\n",
        "   - Ranking model: Memory Network\n",
        "5. To go further\n",
        "    - Additional ideas to try if you want to dig deeper\n",
        "\n",
        "### ParlAI\n",
        "[ParlAI](https://github.com/facebookresearch/ParlAI/blob/master/README.md) (pronounced “par-lay”) is a framework for dialogue AI research, implemented in Python.\n",
        "\n",
        "Its goal is to provide researchers:\n",
        "\n",
        "* a unified framework for sharing, training and testing dialogue models\n",
        "* many popular datasets available all in one place -- from open-domain chitchat to visual question answering.\n",
        "* a wide set of reference models -- from retrieval baselines to Transformers.\n",
        "* seamless integration of Amazon Mechanical Turk for data collection and human evaluation\n",
        "* integration with Facebook Messenger to connect agents with humans in a chat interface\n",
        "\n",
        "Documentation can be found [here](http://www.parl.ai/static/docs/), some of this tutorial is inspired from the ParlAI documentation so feel free to go back and forth between the notebook and the documentation.\n",
        "\n",
        "\n",
        "### Setup the notebook\n",
        "If using google colab, make sure to use TPU runtime by going to ***Runtime > Change runtime type > Hardware accelerator: TPU > Save***"
      ]
    },
    {
      "cell_type": "markdown",
      "metadata": {
        "id": "-k8BZE3HJaut"
      },
      "source": [
        "### Install ParlAI\n",
        "\n",
        "Start by installing ParlAI from github. The ParlAI folder will be located in the home directory at `~/ParlAI/`.  \n",
        "*Note: In a jupyter notebook, you can run arbitrary bash commands by prefixing them with a question mark, example: `!echo \"Hello World\"`*"
      ]
    },
    {
      "cell_type": "code",
      "metadata": {
        "id": "l8V7QcnMI7Wk",
        "colab": {
          "base_uri": "https://localhost:8080/"
        },
        "outputId": "0661cee3-c387-43fa-9b97-04268d964c70"
      },
      "source": [
        "!git clone https://github.com/facebookresearch/ParlAI.git ~/ParlAI\n",
        "!cd ~/ParlAI && git checkout 6bd0e58692b3fd3a13b5f654944525ac1b7cd8e3\n",
        "!cd ~/ParlAI; python setup.py develop"
      ],
      "execution_count": null,
      "outputs": [
        {
          "output_type": "stream",
          "text": [
            "fatal: destination path '/root/ParlAI' already exists and is not an empty directory.\n",
            "HEAD is now at 6bd0e586 light paper link on webpage! (#1536)\n",
            "running develop\n",
            "running egg_info\n",
            "writing parlai.egg-info/PKG-INFO\n",
            "writing dependency_links to parlai.egg-info/dependency_links.txt\n",
            "writing requirements to parlai.egg-info/requires.txt\n",
            "writing top-level names to parlai.egg-info/top_level.txt\n",
            "adding license file 'LICENSE' (matched pattern 'LICEN[CS]E*')\n",
            "reading manifest template 'MANIFEST.in'\n",
            "writing manifest file 'parlai.egg-info/SOURCES.txt'\n",
            "running build_ext\n",
            "Creating /usr/local/lib/python3.7/dist-packages/parlai.egg-link (link to .)\n",
            "parlai 0.1.0 is already the active version in easy-install.pth\n",
            "\n",
            "Installed /root/ParlAI\n",
            "Processing dependencies for parlai==0.1.0\n",
            "error: urllib3 1.24.3 is installed but urllib3<1.27,>=1.25.4 is required by {'botocore'}\n"
          ],
          "name": "stdout"
        }
      ]
    },
    {
      "cell_type": "markdown",
      "metadata": {
        "id": "EJDOC-zsL3wR"
      },
      "source": [
        "Most of the scripts that we will use in ParlAI are located in the `~/ParlAI/examples` directory.  \n",
        "Let's have a first glance at the scripts available, we will come back to them later:"
      ]
    },
    {
      "cell_type": "code",
      "metadata": {
        "id": "bIMjwxKrLm36",
        "colab": {
          "base_uri": "https://localhost:8080/"
        },
        "outputId": "a5c66dc2-9672-4859-95e7-4952099d707f"
      },
      "source": [
        "!ls ~/ParlAI/examples/"
      ],
      "execution_count": null,
      "outputs": [
        {
          "output_type": "stream",
          "text": [
            "base_train.py\t       eval_model.py\t\t remote.py\n",
            "build_dict.py\t       extract_image_feature.py  seq2seq_train_babi.py\n",
            "build_pytorch_data.py  interactive.py\t\t train_model.py\n",
            "display_data.py        profile_train.py\n",
            "display_model.py       README.md\n"
          ],
          "name": "stdout"
        }
      ]
    },
    {
      "cell_type": "markdown",
      "metadata": {
        "id": "N4UnbCdcqHPu"
      },
      "source": [
        "### The bAbI tasks\n",
        "Many datasets and tasks are included in ParlAI, we will focus on the bAbI tasks.\n",
        "The bAbI tasks are 20 synthetic tasks that each test a unique aspect of text and reasoning, and hence test different capabilities of learning models from [Weston et al. ‘16](http://arxiv.org/abs/1502.05698).\n",
        "\n",
        "---\n",
        "**Question 0.**  \n",
        "Open the bAbI [paper](https://arxiv.org/pdf/1502.05698.pdf) and read the abstract  and section: *\"3 The Tasks\"* (until paragraph **Two or Three Supporting Facts**,  included).  \n",
        "- **0.a.** Explain in your own words the motivations behind these tasks (in 2-3 sentences).\n",
        "\n",
        "#*ANSWER HERE*\n",
        "\n",
        "The motivations behind these tasks are the fact to have a set of training and test data with the intention that a sucessful model perform well on test data, to have noiseless tasks and human able to read that langage can achieve potentially 100%.\n",
        "\n",
        "---\n",
        "\n",
        "These tasks can be downloaded and used directly from ParlAI.  \n",
        "We will focus on tasks 1, 2 and 3, see examples below:\n",
        "\n",
        "\n",
        "**Task 1: Single Supporting Fact**  \n",
        "Mary went to the bathroom.  \n",
        "John moved to the hallway.  \n",
        "Mary travelled to the office.  \n",
        "Where is Mary?  \n",
        "**Answer: office**  \n",
        "\n",
        "\n",
        "**Task 2: Two Supporting Facts**  \n",
        "John is in the playground.  \n",
        "John picked up the football.  \n",
        "Bob went to the kitchen.  \n",
        "Where is the football?  \n",
        "**Answer: playground**\n",
        "\n",
        "\n",
        "**Task 3: Three Supporting Facts **  \n",
        "John picked up the apple.  \n",
        "John went to the office.  \n",
        "John went to the kitchen.  \n",
        "John dropped the apple.   \n",
        "Where was the apple before the kitchen?  \n",
        "**Answer: office**\n",
        "\n"
      ]
    },
    {
      "cell_type": "markdown",
      "metadata": {
        "id": "L6IZA9r0MjBd"
      },
      "source": [
        "## 1. Exploring the data"
      ]
    },
    {
      "cell_type": "markdown",
      "metadata": {
        "id": "1Cc-Si6SyatK"
      },
      "source": [
        "First we need to download the data, we will use the `build_dict.py` as a dummy task to download the data."
      ]
    },
    {
      "cell_type": "code",
      "metadata": {
        "id": "XAEH7xUXtxFj",
        "colab": {
          "base_uri": "https://localhost:8080/"
        },
        "outputId": "021a6238-b032-4e6d-f460-fbf27db8d9a3"
      },
      "source": [
        "# Download the data silently\n",
        "!python ~/ParlAI/examples/build_dict.py --task babi:task1k:1 --dict-file /tmp/babi1.dict\n",
        "# Print a few examples\n",
        "!head -n 30 ~/ParlAI/data/bAbI/tasks_1-20_v1-2/en-valid-10k-nosf/qa1_train.txt"
      ],
      "execution_count": null,
      "outputs": [
        {
          "output_type": "stream",
          "text": [
            "[ Main ParlAI Arguments: ] \n",
            "[  batchsize: 1 ]\n",
            "[  datapath: /root/ParlAI/data ]\n",
            "[  datatype: train ]\n",
            "[  download_path: /root/ParlAI/downloads ]\n",
            "[  hide_labels: False ]\n",
            "[  image_mode: raw ]\n",
            "[  multitask_weights: [1] ]\n",
            "[  numthreads: 1 ]\n",
            "[  show_advanced_args: False ]\n",
            "[  task: babi:task1k:1 ]\n",
            "[ ParlAI Model Arguments: ] \n",
            "[  dict_class: None ]\n",
            "[  init_model: None ]\n",
            "[  model: None ]\n",
            "[  model_file: None ]\n",
            "[ PytorchData Arguments: ] \n",
            "[  batch_length_range: 5 ]\n",
            "[  batch_sort_cache_type: pop ]\n",
            "[  batch_sort_field: text ]\n",
            "[  numworkers: 4 ]\n",
            "[  pytorch_context_length: -1 ]\n",
            "[  pytorch_datapath: None ]\n",
            "[  pytorch_include_labels: True ]\n",
            "[  pytorch_preprocess: False ]\n",
            "[  pytorch_teacher_batch_sort: False ]\n",
            "[  pytorch_teacher_dataset: None ]\n",
            "[  pytorch_teacher_task: None ]\n",
            "[  shuffle: False ]\n",
            "[ Dictionary Loop Arguments: ] \n",
            "[  dict_include_test: False ]\n",
            "[  dict_include_valid: False ]\n",
            "[  dict_maxexs: -1 ]\n",
            "[  log_every_n_secs: 2 ]\n",
            "[ Dictionary Arguments: ] \n",
            "[  bpe_debug: False ]\n",
            "[  dict_endtoken: __end__ ]\n",
            "[  dict_file: /tmp/babi1.dict ]\n",
            "[  dict_initpath: None ]\n",
            "[  dict_language: english ]\n",
            "[  dict_lower: False ]\n",
            "[  dict_max_ngram_size: -1 ]\n",
            "[  dict_maxtokens: -1 ]\n",
            "[  dict_minfreq: 0 ]\n",
            "[  dict_nulltoken: __null__ ]\n",
            "[  dict_starttoken: __start__ ]\n",
            "[  dict_textfields: text,labels ]\n",
            "[  dict_tokenizer: re ]\n",
            "[  dict_unktoken: __unk__ ]\n",
            "[ ParlAI Image Preprocessing Arguments: ] \n",
            "[  image_cropsize: 224 ]\n",
            "[  image_size: 256 ]\n",
            "[creating task(s): babi:task1k:1]\n",
            "[building data: /root/ParlAI/data/bAbI]\n",
            "[ downloading: http://parl.ai/downloads/babi/babi.tar.gz to /root/ParlAI/data/bAbI/babi.tar.gz ]\n",
            "Downloading babi.tar.gz: 100% 19.2M/19.2M [00:01<00:00, 13.1MB/s]\n",
            "unpacking babi.tar.gz\n",
            "[ running dictionary over data.. ]\n",
            "[loading fbdialog data:/root/ParlAI/data/bAbI/tasks_1-20_v1-2/en-valid-nosf/qa1_train.txt]\n",
            "Building dictionary:   0% 0.00/900 [00:00<?, ?ex/s][loading fbdialog data:/root/ParlAI/data/bAbI/tasks_1-20_v1-2/en-valid-nosf/qa1_train.txt]\n",
            "[loading fbdialog data:/root/ParlAI/data/bAbI/tasks_1-20_v1-2/en-valid-nosf/qa1_train.txt]\n",
            "Building dictionary: 100% 900/900 [00:00<00:00, 24.4kex/s]\n",
            "Dictionary: saving dictionary to /tmp/babi1.dict\n",
            "[ dictionary built with 26 tokens in 0s ]\n",
            "1 Mary moved to the bathroom.\n",
            "2 John went to the hallway.\n",
            "3 Where is Mary? \tbathroom\n",
            "4 Daniel went back to the hallway.\n",
            "5 Sandra moved to the garden.\n",
            "6 Where is Daniel? \thallway\n",
            "7 John moved to the office.\n",
            "8 Sandra journeyed to the bathroom.\n",
            "9 Where is Daniel? \thallway\n",
            "10 Mary moved to the hallway.\n",
            "11 Daniel travelled to the office.\n",
            "12 Where is Daniel? \toffice\n",
            "13 John went back to the garden.\n",
            "14 John moved to the bedroom.\n",
            "15 Where is Sandra? \tbathroom\n",
            "1 Mary went to the bedroom.\n",
            "2 John journeyed to the bathroom.\n",
            "3 Where is John? \tbathroom\n",
            "4 Sandra journeyed to the hallway.\n",
            "5 John journeyed to the garden.\n",
            "6 Where is Mary? \tbedroom\n",
            "7 John journeyed to the bathroom.\n",
            "8 Sandra journeyed to the garden.\n",
            "9 Where is John? \tbathroom\n",
            "10 Sandra went back to the bedroom.\n",
            "11 Daniel travelled to the bathroom.\n",
            "12 Where is John? \tbathroom\n",
            "13 John went to the office.\n",
            "14 Mary moved to the office.\n",
            "15 Where is Sandra? \tbedroom\n"
          ],
          "name": "stdout"
        }
      ]
    },
    {
      "cell_type": "markdown",
      "metadata": {
        "id": "vbc5n2xpPnsb"
      },
      "source": [
        "The bAbI tasks were downloaded in `~/ParlAI/data/bAbI/tasks_1-20_v1-2/en-valid-nosf/`\n",
        "\n",
        "In bAbI the data is organised as follows:\n",
        "- **Dialog turn**: A dialog turn is a single utterance / statement. Each line in the file corresponds to one dialog turn.   \n",
        "  Example: *\"John went to the office.\"*\n",
        "- **Sample (question)**: Every few dialog turns, a question can be asked that the model has to answer, this consitute a sample.  The question is followed by its ground truth answer, separated by a tab.\n",
        "  Example: *\"Where is John? `<tab>` bathroom\"*\n",
        "- **Episode**: a sequence of ordered coherent dialog turns that are related to each other form an episode. Each new episode is independant of the others. Each line starts with the dialog turn number in the current episode.\n",
        "\n",
        "\n",
        "---\n",
        "**Question 1.**\n",
        "- **1.a.** Look at the training file of task 1 (`~/ParlAI/data/bAbI/tasks_1-20_v1-2/en/qa1_train.txt`) and compute the following information:\n",
        "  - Number of episodes\n",
        "  - Number of  samples (questions)\n",
        "  - Number of dialog turns per episode\n",
        "  - How many different answers are there in the train set? How many times does each appear? (*hint: Use a python [counter](https://docs.python.org/3/library/collections.html#collections.Counter)*)\n",
        "  - How many unique words appear in the training set? How many time does each appear? (*hint: Use the Counter `most_common()` method*)\n",
        "\n",
        "*Print the answer in the following code cell*\n",
        "\n",
        "#Answers\n",
        "*The number of episodes is 1800. \n",
        "\n",
        "**The number of question (samples) is 9000. \n",
        "\n",
        "***The number of dialog turns per episode is 15. \n",
        "\n",
        "****The number of possibles answer is 6. The number of times: Counter ({'bathroom':1564,'hallway':1517,'garden':1508,'bedroom':1473,'kitchen':1471, 'office'1467})\n",
        "\n",
        "*****The number of unique words that appear in the training is 24. The number of times is most common words: [('to', 18000), ('the', 18000), ('Where', 9000), ('is', 9000), ('', 9000), ('went', 7225), ('Mary', 4535), ('Sandra', 4502), ('John', 4484), ('Daniel', 4479), ('journeyed', 3620), ('travelled', 3582), ('back', 3581), ('moved', 3573), ('bathroom.', 3070), ('hallway.', 3045), ('garden.', 2982), ('kitchen.', 2981), ('office.', 2963), ('bedroom.', 2959), ('John?', 2299), ('Mary?', 2265), ('Sandra?', 2244), ('Daniel?', 2192)]\n",
        "\n",
        "\n",
        "  ---"
      ]
    },
    {
      "cell_type": "code",
      "metadata": {
        "id": "Hh5gdEe0wr5s"
      },
      "source": [
        "from collections import Counter\n",
        "\n",
        "\n",
        "task_1_train_path = '/root/ParlAI/data/bAbI/tasks_1-20_v1-2/en-valid-10k-nosf/qa1_train.txt'\n",
        "i = 0\n",
        "n_episodes = 0\n",
        "n_questions = 0\n",
        "n_total_dialog_turns = 0\n",
        "possible_answers = Counter()\n",
        "possible_answers_dict = {}\n",
        "vocabulary = Counter()\n",
        "with open(task_1_train_path, 'r') as f:\n",
        "  # FILL CODE HERE"
      ],
      "execution_count": null,
      "outputs": []
    },
    {
      "cell_type": "code",
      "metadata": {
        "colab": {
          "base_uri": "https://localhost:8080/"
        },
        "id": "CxhzG9F9LPLK",
        "outputId": "99564ed8-bd93-4592-b06a-048dca0d32a1"
      },
      "source": [
        "#Solution\n",
        "from collections import Counter\n",
        "\n",
        "\n",
        "task_1_train_path = '/root/ParlAI/data/bAbI/tasks_1-20_v1-2/en-valid-10k-nosf/qa1_train.txt'\n",
        "i = 0\n",
        "n_episodes = 0\n",
        "n_questions = 0\n",
        "n_total_dialog_turns = 0\n",
        "possible_answers = Counter()\n",
        "possible_answers_dict = {}\n",
        "vocabulary = Counter()\n",
        "with open(task_1_train_path, 'r') as f:\n",
        "  # FILL CODE HERE\n",
        "    for line in f:\n",
        "        # Each line starts with an integer giving the dialog turn in the current episode.\n",
        "        # Each episode contains dialog turns with questions (with the answer next to it separated by a tab)\n",
        "        line = line.strip('\\n')\n",
        "        dialog_turn = int(line.split(' ')[0])\n",
        "        if dialog_turn == 1:\n",
        "            n_episodes += 1\n",
        "        # Remove the dialog turn number\n",
        "        line = ' '.join(line.split(' ')[1:])\n",
        "        fields = line.split('\\t')\n",
        "        if len(fields) > 1:\n",
        "            n_questions += 1\n",
        "            possible_answers.update([fields[1]])\n",
        "        vocabulary.update(fields[0].split(' '))\n",
        "        n_total_dialog_turns += 1\n",
        "print(f'Number of episodes: {n_episodes}')\n",
        "print(f'Number of questions: {n_questions}')\n",
        "print(f'Number of dialog turns per episode: {n_total_dialog_turns/n_episodes}')\n",
        "print(f'Possible answers: {possible_answers} ({len(possible_answers)})')\n",
        "print(f'Accuracy of a random model: {1/len(possible_answers):.4f}')\n",
        "print(f'Vocabulary size: {len(vocabulary)}')\n",
        "print(f'Most common words: {vocabulary.most_common()}')"
      ],
      "execution_count": null,
      "outputs": [
        {
          "output_type": "stream",
          "text": [
            "Number of episodes: 1800\n",
            "Number of questions: 9000\n",
            "Number of dialog turns per episode: 15.0\n",
            "Possible answers: Counter({'bathroom': 1564, 'hallway': 1517, 'garden': 1508, 'bedroom': 1473, 'kitchen': 1471, 'office': 1467}) (6)\n",
            "Accuracy of a random model: 0.1667\n",
            "Vocabulary size: 24\n",
            "Most common words: [('to', 18000), ('the', 18000), ('Where', 9000), ('is', 9000), ('', 9000), ('went', 7225), ('Mary', 4535), ('Sandra', 4502), ('John', 4484), ('Daniel', 4479), ('journeyed', 3620), ('travelled', 3582), ('back', 3581), ('moved', 3573), ('bathroom.', 3070), ('hallway.', 3045), ('garden.', 2982), ('kitchen.', 2981), ('office.', 2963), ('bedroom.', 2959), ('John?', 2299), ('Mary?', 2265), ('Sandra?', 2244), ('Daniel?', 2192)]\n"
          ],
          "name": "stdout"
        }
      ]
    },
    {
      "cell_type": "markdown",
      "metadata": {
        "id": "XNYNtDHiuVq8"
      },
      "source": [
        "\n",
        "- **2.b.** Use the appropriate script from the `~/ParlAI/examples/` to take a quick look at examples of the first bAbI task.  \n",
        "Does the number of episodes and examples fit what you computed before? (*hint: you can use the argument `--task babi:task1k:1` to select the first babi task*)"
      ]
    },
    {
      "cell_type": "markdown",
      "metadata": {
        "id": "vCRA1pFBuSdV"
      },
      "source": [
        "#Answer\n",
        "Yes the number of episodes and examples fit what we computed before."
      ]
    },
    {
      "cell_type": "code",
      "metadata": {
        "id": "NfHFNJwRwn5l"
      },
      "source": [
        "# FILL THIS CELL"
      ],
      "execution_count": null,
      "outputs": []
    },
    {
      "cell_type": "code",
      "metadata": {
        "id": "f6HlIvzGgKv2",
        "colab": {
          "base_uri": "https://localhost:8080/"
        },
        "outputId": "cb08d5a7-09c9-4022-a13c-2c031a90a479"
      },
      "source": [
        "# FILL THIS CELL\n",
        "# SOLUTION\n",
        "!python ~/ParlAI/examples/display_data.py --task babi:task10k:1"
      ],
      "execution_count": null,
      "outputs": [
        {
          "output_type": "stream",
          "text": [
            "[ optional arguments: ] \n",
            "[  display_ignore_fields: agent_reply ]\n",
            "[  max_display_len: 1000 ]\n",
            "[  num_examples: 10 ]\n",
            "[ Main ParlAI Arguments: ] \n",
            "[  batchsize: 1 ]\n",
            "[  datapath: /root/ParlAI/data ]\n",
            "[  datatype: train:stream ]\n",
            "[  download_path: /root/ParlAI/downloads ]\n",
            "[  hide_labels: False ]\n",
            "[  image_mode: raw ]\n",
            "[  multitask_weights: [1] ]\n",
            "[  numthreads: 1 ]\n",
            "[  show_advanced_args: False ]\n",
            "[  task: babi:task10k:1 ]\n",
            "[ ParlAI Model Arguments: ] \n",
            "[  dict_class: None ]\n",
            "[  init_model: None ]\n",
            "[  model: None ]\n",
            "[  model_file: None ]\n",
            "[ PytorchData Arguments: ] \n",
            "[  batch_length_range: 5 ]\n",
            "[  batch_sort_cache_type: pop ]\n",
            "[  batch_sort_field: text ]\n",
            "[  numworkers: 4 ]\n",
            "[  pytorch_context_length: -1 ]\n",
            "[  pytorch_datapath: None ]\n",
            "[  pytorch_include_labels: True ]\n",
            "[  pytorch_preprocess: False ]\n",
            "[  pytorch_teacher_batch_sort: False ]\n",
            "[  pytorch_teacher_dataset: None ]\n",
            "[  pytorch_teacher_task: None ]\n",
            "[  shuffle: False ]\n",
            "[ ParlAI Image Preprocessing Arguments: ] \n",
            "[  image_cropsize: 224 ]\n",
            "[  image_size: 256 ]\n",
            "[creating task(s): babi:task10k:1]\n",
            "[loading fbdialog data:/root/ParlAI/data/bAbI/tasks_1-20_v1-2/en-valid-10k-nosf/qa1_train.txt]\n",
            "[loading fbdialog data:/root/ParlAI/data/bAbI/tasks_1-20_v1-2/en-valid-10k-nosf/qa1_train.txt]\n",
            "[babi:task10k:1]: Mary moved to the bathroom.\n",
            "John went to the hallway.\n",
            "Where is Mary?\n",
            "[label_candidates: hallway|garden|kitchen|office|bathroom|...and 1 more]\n",
            "[labels: bathroom]\n",
            "~~\n",
            "[babi:task10k:1]: Daniel went back to the hallway.\n",
            "Sandra moved to the garden.\n",
            "Where is Daniel?\n",
            "[label_candidates: hallway|garden|kitchen|office|bathroom|...and 1 more]\n",
            "[labels: hallway]\n",
            "~~\n",
            "[babi:task10k:1]: John moved to the office.\n",
            "Sandra journeyed to the bathroom.\n",
            "Where is Daniel?\n",
            "[label_candidates: hallway|garden|kitchen|office|bathroom|...and 1 more]\n",
            "[labels: hallway]\n",
            "~~\n",
            "[babi:task10k:1]: Mary moved to the hallway.\n",
            "Daniel travelled to the office.\n",
            "Where is Daniel?\n",
            "[label_candidates: hallway|garden|kitchen|office|bathroom|...and 1 more]\n",
            "[labels: office]\n",
            "~~\n",
            "[babi:task10k:1]: John went back to the garden.\n",
            "John moved to the bedroom.\n",
            "Where is Sandra?\n",
            "[label_candidates: hallway|garden|kitchen|office|bathroom|...and 1 more]\n",
            "[labels: bathroom]\n",
            "- - - - - - - - - - - - - - - - - - - - -\n",
            "~~\n",
            "[babi:task10k:1]: Mary went to the bedroom.\n",
            "John journeyed to the bathroom.\n",
            "Where is John?\n",
            "[label_candidates: hallway|garden|kitchen|office|bathroom|...and 1 more]\n",
            "[labels: bathroom]\n",
            "~~\n",
            "[babi:task10k:1]: Sandra journeyed to the hallway.\n",
            "John journeyed to the garden.\n",
            "Where is Mary?\n",
            "[label_candidates: hallway|garden|kitchen|office|bathroom|...and 1 more]\n",
            "[labels: bedroom]\n",
            "~~\n",
            "[babi:task10k:1]: John journeyed to the bathroom.\n",
            "Sandra journeyed to the garden.\n",
            "Where is John?\n",
            "[label_candidates: hallway|garden|kitchen|office|bathroom|...and 1 more]\n",
            "[labels: bathroom]\n",
            "~~\n",
            "[babi:task10k:1]: Sandra went back to the bedroom.\n",
            "Daniel travelled to the bathroom.\n",
            "Where is John?\n",
            "[label_candidates: hallway|garden|kitchen|office|bathroom|...and 1 more]\n",
            "[labels: bathroom]\n",
            "~~\n",
            "[babi:task10k:1]: John went to the office.\n",
            "Mary moved to the office.\n",
            "Where is Sandra?\n",
            "[label_candidates: hallway|garden|kitchen|office|bathroom|...and 1 more]\n",
            "[labels: bedroom]\n",
            "- - - - - - - - - - - - - - - - - - - - -\n",
            "~~\n",
            "[ loaded 1800 episodes with a total of 9000 examples ]\n"
          ],
          "name": "stdout"
        }
      ]
    },
    {
      "cell_type": "markdown",
      "metadata": {
        "id": "TovRmKOA858i"
      },
      "source": [
        "## 2. Metrics"
      ]
    },
    {
      "cell_type": "markdown",
      "metadata": {
        "id": "g9NV_vBlPSWP"
      },
      "source": [
        "The bAbI task 1 expects single word answers among a small set of possible answers.\n",
        "\n",
        "\n",
        "---\n",
        "**Question 2**  \n",
        "- **2.a.** Which metrics do you think are appropriate for evaluating a model on this task?   \n",
        "-  **2.b.**  What are their respective strengths?  \n",
        "-  **2.c.** When do they fail? (find specific examples)  \n",
        "\n",
        "\n",
        "#*ANSWER HERE* \n",
        "\n",
        "2.a.  For the metrics, we can use F1 score, bleu and accuracy.\n",
        "\n",
        "2.b. Accuracy is used when the True Positives and True negatives are more important while F1-score is used when the False Negatives and False Positives are crucial.\n",
        "\n",
        "2.c  Accuracy fails when data is imbalanced. F1 doesn’t average meaningfully across real class or predicted label or runs\n",
        "\n",
        "\n",
        "\n",
        "\n",
        "\n",
        "---"
      ]
    },
    {
      "cell_type": "markdown",
      "metadata": {
        "id": "0_MZKCTW6fh9"
      },
      "source": [
        "## 3. Baseline\n",
        "\n"
      ]
    },
    {
      "cell_type": "markdown",
      "metadata": {
        "id": "RSexIY71yiD6"
      },
      "source": [
        "We now have a clearer idea of the data distribution and the metrics that we can use.  \n",
        "The next step is to start solving the tasks with a simple baseline. This will allow us to compare more elaborate models agains this baseline.  \n",
        "Here are a few classical baselines:\n",
        "- **Random model**: The model answers randomly among the set of possible answers for each question\n",
        "-  **Majority class**: The model always answers with the most frequent answer in the training set (majority class)\n",
        "\n",
        "We are going to reimplement these own baselines.  \n",
        "Implementing a new model in ParlAI is detailed in the [tutorial](http://parl.ai/static/docs/seq2seq_tutorial.html) but for our simple baselines, we will only need to inherit the [Agent](https://github.com/facebookresearch/ParlAI/blob/6d246842d3f4e941dd3806f3d9fa62f607d48f59/parlai/core/agents.py#L50) class and override the `act()` method.\n",
        "\n",
        "---\n",
        "**Question 3**  \n",
        "- **3.a.** What would be the accuracy of a model that choses a random answer among the set of possible answers for each question? \n",
        "\n",
        "#*ANSWER HERE*\n",
        "\n",
        "The accuracy will be 16,66%.\n",
        "\n",
        "---\n",
        "\n",
        "*Note: the `%%writefile` magic command in jupyter writes the content of the cell to a file at the given path.*"
      ]
    },
    {
      "cell_type": "code",
      "metadata": {
        "id": "9ahmFL0Rk6g1"
      },
      "source": [
        "!mkdir -p ~/ParlAI/parlai/agents/baseline/\n",
        "!touch ~/ParlAI/parlai/agents/baseline/random.py\n",
        "!touch ~/ParlAI/parlai/agents/baseline/majorityclass.py"
      ],
      "execution_count": null,
      "outputs": []
    },
    {
      "cell_type": "markdown",
      "metadata": {
        "id": "mZLM7DtkkJN1"
      },
      "source": [
        "- **3.b.**  Design a baseline that answers a random word in the set of possible answer (run it multiple time to observe variance in results)."
      ]
    },
    {
      "cell_type": "code",
      "metadata": {
        "id": "Zx4emBSPjmE-"
      },
      "source": [
        "# FILL THIS CELL\n",
        "%%writefile ~/ParlAI/parlai/agents/baseline/random.py\n",
        "import random\n",
        "\n",
        "from parlai.core.torch_agent import Agent\n",
        "\n",
        "\n",
        "class RandomAgent(Agent):\n",
        "  \n",
        "    def act(self):\n",
        "        # FILL CODE HERE"
      ],
      "execution_count": null,
      "outputs": []
    },
    {
      "cell_type": "code",
      "metadata": {
        "colab": {
          "base_uri": "https://localhost:8080/"
        },
        "id": "0aQ4wIQYO637",
        "outputId": "4c850e93-c2a6-4b27-dcc8-c582bce9c418"
      },
      "source": [
        "# SOLUTION\n",
        "%%writefile ~/ParlAI/parlai/agents/baseline/random.py\n",
        "import random\n",
        "\n",
        "from parlai.core.torch_agent import Agent\n",
        "\n",
        "\n",
        "class RandomAgent(Agent):\n",
        "  \n",
        "    def act(self):\n",
        "      # FILL CODE HERE\n",
        "        if 'label_candidates' not in self.observation:\n",
        "            return\n",
        "        candidates = list(self.observation['label_candidates'])\n",
        "        reply = {'text': candidates[random.randrange(len(candidates))]}\n",
        "        return reply"
      ],
      "execution_count": null,
      "outputs": [
        {
          "output_type": "stream",
          "text": [
            "Overwriting /root/ParlAI/parlai/agents/baseline/random.py\n"
          ],
          "name": "stdout"
        }
      ]
    },
    {
      "cell_type": "code",
      "metadata": {
        "id": "dMOWxgVj1Joz",
        "colab": {
          "base_uri": "https://localhost:8080/"
        },
        "outputId": "606d3cc9-1440-4fa8-ffd9-b6022055fbaf"
      },
      "source": [
        "!python ~/ParlAI/examples/eval_model.py -t babi:task10k:1 -m baseline/random | grep accuracy -A 1"
      ],
      "execution_count": null,
      "outputs": [
        {
          "output_type": "stream",
          "text": [
            "{'exs': 1000, 'accuracy': 0.168, 'f1': 0.168, 'bleu': 1.68e-10}\n"
          ],
          "name": "stdout"
        }
      ]
    },
    {
      "cell_type": "code",
      "metadata": {
        "id": "oVs3pOKE2-WE",
        "colab": {
          "base_uri": "https://localhost:8080/"
        },
        "outputId": "a0d52e57-165c-4e97-e2b1-ea20b6b78449"
      },
      "source": [
        "!python ~/ParlAI/examples/display_model.py -t babi:task10k:1 -m baseline/random -n 10 "
      ],
      "execution_count": null,
      "outputs": [
        {
          "output_type": "stream",
          "text": [
            "[ optional arguments: ] \n",
            "[  display_ignore_fields:  ]\n",
            "[  num_examples: 10 ]\n",
            "[ Main ParlAI Arguments: ] \n",
            "[  batchsize: 1 ]\n",
            "[  datapath: /root/ParlAI/data ]\n",
            "[  datatype: valid ]\n",
            "[  download_path: /root/ParlAI/downloads ]\n",
            "[  hide_labels: False ]\n",
            "[  image_mode: raw ]\n",
            "[  multitask_weights: [1] ]\n",
            "[  numthreads: 1 ]\n",
            "[  show_advanced_args: False ]\n",
            "[  task: babi:task10k:1 ]\n",
            "[ ParlAI Model Arguments: ] \n",
            "[  dict_class: None ]\n",
            "[  init_model: None ]\n",
            "[  model: baseline/random ]\n",
            "[  model_file: None ]\n",
            "[ ParlAI Image Preprocessing Arguments: ] \n",
            "[  image_cropsize: 224 ]\n",
            "[  image_size: 256 ]\n",
            "[creating task(s): babi:task10k:1]\n",
            "[loading fbdialog data:/root/ParlAI/data/bAbI/tasks_1-20_v1-2/en-valid-10k-nosf/qa1_valid.txt]\n",
            "[babi:task10k:1]: Sandra travelled to the office.\n",
            "Sandra went to the bathroom.\n",
            "Where is Sandra?\n",
            "[label_candidates: bedroom|kitchen|office|bathroom|garden|...and 1 more]\n",
            "[eval_labels: bathroom]\n",
            "   hallway\n",
            "~~\n",
            "[babi:task10k:1]: Mary went to the bedroom.\n",
            "Daniel moved to the hallway.\n",
            "Where is Sandra?\n",
            "[label_candidates: bedroom|kitchen|office|bathroom|garden|...and 1 more]\n",
            "[eval_labels: bathroom]\n",
            "   bedroom\n",
            "~~\n",
            "[babi:task10k:1]: John went to the garden.\n",
            "John travelled to the office.\n",
            "Where is Sandra?\n",
            "[label_candidates: bedroom|kitchen|office|bathroom|garden|...and 1 more]\n",
            "[eval_labels: bathroom]\n",
            "   bedroom\n",
            "~~\n",
            "[babi:task10k:1]: Daniel journeyed to the bedroom.\n",
            "Daniel travelled to the hallway.\n",
            "Where is John?\n",
            "[label_candidates: bedroom|kitchen|office|bathroom|garden|...and 1 more]\n",
            "[eval_labels: office]\n",
            "   hallway\n",
            "~~\n",
            "[babi:task10k:1]: John went to the bedroom.\n",
            "John travelled to the office.\n",
            "Where is Daniel?\n",
            "[label_candidates: bedroom|kitchen|office|bathroom|garden|...and 1 more]\n",
            "[eval_labels: hallway]\n",
            "   office\n",
            "- - - - - - - - - - - - - - - - - - - - -\n",
            "~~\n",
            "[babi:task10k:1]: Sandra went back to the bathroom.\n",
            "Mary moved to the garden.\n",
            "Where is Mary?\n",
            "[label_candidates: bedroom|kitchen|office|bathroom|garden|...and 1 more]\n",
            "[eval_labels: garden]\n",
            "   kitchen\n",
            "~~\n",
            "[babi:task10k:1]: Mary went back to the hallway.\n",
            "Sandra went to the office.\n",
            "Where is Sandra?\n",
            "[label_candidates: bedroom|kitchen|office|bathroom|garden|...and 1 more]\n",
            "[eval_labels: office]\n",
            "   kitchen\n",
            "~~\n",
            "[babi:task10k:1]: John went back to the hallway.\n",
            "John travelled to the office.\n",
            "Where is Sandra?\n",
            "[label_candidates: bedroom|kitchen|office|bathroom|garden|...and 1 more]\n",
            "[eval_labels: office]\n",
            "   kitchen\n",
            "~~\n",
            "[babi:task10k:1]: Sandra journeyed to the hallway.\n",
            "Daniel moved to the office.\n",
            "Where is John?\n",
            "[label_candidates: bedroom|kitchen|office|bathroom|garden|...and 1 more]\n",
            "[eval_labels: office]\n",
            "   hallway\n",
            "~~\n",
            "[babi:task10k:1]: Mary went to the office.\n",
            "Sandra went to the office.\n",
            "Where is John?\n",
            "[label_candidates: bedroom|kitchen|office|bathroom|garden|...and 1 more]\n",
            "[eval_labels: office]\n",
            "   bedroom\n",
            "- - - - - - - - - - - - - - - - - - - - -\n",
            "~~\n"
          ],
          "name": "stdout"
        }
      ]
    },
    {
      "cell_type": "markdown",
      "metadata": {
        "id": "3UnE4oVakR4k"
      },
      "source": [
        "- **3.c.**  Design a baseline that answers the most common answer every time (majority class baseline)."
      ]
    },
    {
      "cell_type": "code",
      "metadata": {
        "id": "hHIV2NUzGzQc"
      },
      "source": [
        "# FILL THIS CELL\n",
        "%%writefile ~/ParlAI/parlai/agents/baseline/majorityclass.py\n",
        "import random\n",
        "\n",
        "from parlai.core.torch_agent import Agent\n",
        "\n",
        "\n",
        "class MajorityclassAgent(Agent):\n",
        "  \n",
        "    def act(self):\n",
        "        # FILL CODE HERE"
      ],
      "execution_count": null,
      "outputs": []
    },
    {
      "cell_type": "code",
      "metadata": {
        "colab": {
          "base_uri": "https://localhost:8080/"
        },
        "id": "ONDY4ttGQol0",
        "outputId": "49e37d3f-55bb-4d82-e2a8-ed5c0cd4f978"
      },
      "source": [
        "# SOLUTION\n",
        "%%writefile ~/ParlAI/parlai/agents/baseline/majorityclass.py\n",
        "import random\n",
        "\n",
        "from parlai.core.torch_agent import Agent\n",
        "\n",
        "\n",
        "class MajorityclassAgent(Agent):\n",
        "  \n",
        "    def act(self):\n",
        "        if 'label_candidates' not in self.observation:\n",
        "            return\n",
        "        candidates = list(self.observation['label_candidates'])\n",
        "        reply = {'text': 'bathroom'}\n",
        "        return reply"
      ],
      "execution_count": null,
      "outputs": [
        {
          "output_type": "stream",
          "text": [
            "Overwriting /root/ParlAI/parlai/agents/baseline/majorityclass.py\n"
          ],
          "name": "stdout"
        }
      ]
    },
    {
      "cell_type": "code",
      "metadata": {
        "id": "U34z6bx0lJV9",
        "colab": {
          "base_uri": "https://localhost:8080/"
        },
        "outputId": "cd9283f9-1dad-4844-91c8-2b84b489b802"
      },
      "source": [
        "!python ~/ParlAI/examples/eval_model.py -t babi:task10k:1 -m baseline/majorityclass | grep accuracy -A 1"
      ],
      "execution_count": null,
      "outputs": [
        {
          "output_type": "stream",
          "text": [
            "{'exs': 1000, 'accuracy': 0.169, 'f1': 0.169, 'bleu': 1.69e-10}\n"
          ],
          "name": "stdout"
        }
      ]
    },
    {
      "cell_type": "code",
      "metadata": {
        "id": "X8LHkfUS3AL0",
        "colab": {
          "base_uri": "https://localhost:8080/"
        },
        "outputId": "6e97cdcb-dc91-4f13-d44e-9e30988fb646"
      },
      "source": [
        "!python ~/ParlAI/examples/display_model.py -t babi:task10k:1 -m baseline/majorityclass -n 10"
      ],
      "execution_count": null,
      "outputs": [
        {
          "output_type": "stream",
          "text": [
            "[ optional arguments: ] \n",
            "[  display_ignore_fields:  ]\n",
            "[  num_examples: 10 ]\n",
            "[ Main ParlAI Arguments: ] \n",
            "[  batchsize: 1 ]\n",
            "[  datapath: /root/ParlAI/data ]\n",
            "[  datatype: valid ]\n",
            "[  download_path: /root/ParlAI/downloads ]\n",
            "[  hide_labels: False ]\n",
            "[  image_mode: raw ]\n",
            "[  multitask_weights: [1] ]\n",
            "[  numthreads: 1 ]\n",
            "[  show_advanced_args: False ]\n",
            "[  task: babi:task10k:1 ]\n",
            "[ ParlAI Model Arguments: ] \n",
            "[  dict_class: None ]\n",
            "[  init_model: None ]\n",
            "[  model: baseline/majorityclass ]\n",
            "[  model_file: None ]\n",
            "[ ParlAI Image Preprocessing Arguments: ] \n",
            "[  image_cropsize: 224 ]\n",
            "[  image_size: 256 ]\n",
            "[creating task(s): babi:task10k:1]\n",
            "[loading fbdialog data:/root/ParlAI/data/bAbI/tasks_1-20_v1-2/en-valid-10k-nosf/qa1_valid.txt]\n",
            "[babi:task10k:1]: Sandra travelled to the office.\n",
            "Sandra went to the bathroom.\n",
            "Where is Sandra?\n",
            "[eval_labels: bathroom]\n",
            "[label_candidates: garden|bathroom|office|hallway|kitchen|...and 1 more]\n",
            "   bathroom\n",
            "~~\n",
            "[babi:task10k:1]: Mary went to the bedroom.\n",
            "Daniel moved to the hallway.\n",
            "Where is Sandra?\n",
            "[eval_labels: bathroom]\n",
            "[label_candidates: garden|bathroom|office|hallway|kitchen|...and 1 more]\n",
            "   bathroom\n",
            "~~\n",
            "[babi:task10k:1]: John went to the garden.\n",
            "John travelled to the office.\n",
            "Where is Sandra?\n",
            "[eval_labels: bathroom]\n",
            "[label_candidates: garden|bathroom|office|hallway|kitchen|...and 1 more]\n",
            "   bathroom\n",
            "~~\n",
            "[babi:task10k:1]: Daniel journeyed to the bedroom.\n",
            "Daniel travelled to the hallway.\n",
            "Where is John?\n",
            "[eval_labels: office]\n",
            "[label_candidates: garden|bathroom|office|hallway|kitchen|...and 1 more]\n",
            "   bathroom\n",
            "~~\n",
            "[babi:task10k:1]: John went to the bedroom.\n",
            "John travelled to the office.\n",
            "Where is Daniel?\n",
            "[eval_labels: hallway]\n",
            "[label_candidates: garden|bathroom|office|hallway|kitchen|...and 1 more]\n",
            "   bathroom\n",
            "- - - - - - - - - - - - - - - - - - - - -\n",
            "~~\n",
            "[babi:task10k:1]: Sandra went back to the bathroom.\n",
            "Mary moved to the garden.\n",
            "Where is Mary?\n",
            "[eval_labels: garden]\n",
            "[label_candidates: garden|bathroom|office|hallway|kitchen|...and 1 more]\n",
            "   bathroom\n",
            "~~\n",
            "[babi:task10k:1]: Mary went back to the hallway.\n",
            "Sandra went to the office.\n",
            "Where is Sandra?\n",
            "[eval_labels: office]\n",
            "[label_candidates: garden|bathroom|office|hallway|kitchen|...and 1 more]\n",
            "   bathroom\n",
            "~~\n",
            "[babi:task10k:1]: John went back to the hallway.\n",
            "John travelled to the office.\n",
            "Where is Sandra?\n",
            "[eval_labels: office]\n",
            "[label_candidates: garden|bathroom|office|hallway|kitchen|...and 1 more]\n",
            "   bathroom\n",
            "~~\n",
            "[babi:task10k:1]: Sandra journeyed to the hallway.\n",
            "Daniel moved to the office.\n",
            "Where is John?\n",
            "[eval_labels: office]\n",
            "[label_candidates: garden|bathroom|office|hallway|kitchen|...and 1 more]\n",
            "   bathroom\n",
            "~~\n",
            "[babi:task10k:1]: Mary went to the office.\n",
            "Sandra went to the office.\n",
            "Where is John?\n",
            "[eval_labels: office]\n",
            "[label_candidates: garden|bathroom|office|hallway|kitchen|...and 1 more]\n",
            "   bathroom\n",
            "- - - - - - - - - - - - - - - - - - - - -\n",
            "~~\n"
          ],
          "name": "stdout"
        }
      ]
    },
    {
      "cell_type": "markdown",
      "metadata": {
        "id": "BOW4ZTSekWt9"
      },
      "source": [
        "---\n",
        "- **3.d.**  In which cases would the majority class baseline be better than the random baseline?\n",
        "\n",
        "#*ANSWER HERE*\n",
        "\n",
        "The case that the majority class baseline would be better than the random baseline is when the dataset is unbalenced.\n",
        "\n",
        "---"
      ]
    },
    {
      "cell_type": "markdown",
      "metadata": {
        "id": "layL9aTK_D1a"
      },
      "source": [
        "Another slightly more advanced baseline is implemented in ParlAI: the information retrieval baseline (`ir_baseline`)\n",
        "\n",
        "---\n",
        "- **3.e.** Look at the [implementation](https://github.com/facebookresearch/ParlAI/blob/53ea58acf389bffc79c85c43bcdd848eecdcecb4/parlai/agents/ir_baseline/ir_baseline.py#L211) of the IR baseline and explain in a few lines how it works (*hint: look at the following methods `act()` `rank_candidates()`  `score_match()`*)  \n",
        "\n",
        "#*ANSWER HERE*\n",
        "\n",
        "Given observations, the model generates a response by building query representation and ranking the cadidates if there is any. The cadidates are ranked by calculating the score match between the query representation and the text. Then, the list of candidate strings are ordered based on their score and the one with the highest score is returned for prediction.\n",
        "\n",
        "\n",
        "---"
      ]
    },
    {
      "cell_type": "markdown",
      "metadata": {
        "id": "oKo6zJHwksKA"
      },
      "source": [
        "- **3.f.** Use the IR baseline and compare its with one of your baselines (random and/or majority) on bAbI tasks 1, 2 and 3.  \n",
        "    (*hint: you can use `!python ... -t babi:task1-k:{i+1}` syntax to substitute the task number in a bash command from jupyter*)\n"
      ]
    },
    {
      "cell_type": "code",
      "metadata": {
        "id": "EzBAEWP7k10U"
      },
      "source": [
        "# FILL THIS CELL\n",
        "for i in range(3):\n",
        "    print(f'~ Task {i+1} ~')\n",
        "    # FILL CODE HERE"
      ],
      "execution_count": null,
      "outputs": []
    },
    {
      "cell_type": "code",
      "metadata": {
        "id": "zjGuI3m-RRiE",
        "colab": {
          "base_uri": "https://localhost:8080/"
        },
        "outputId": "6f531f64-cc41-446d-a89c-bff42de05c10"
      },
      "source": [
        "# SOLUTION\n",
        "for i in range(3):\n",
        "    print(f'~ Task {i+1} ~')\n",
        "    print('Majority class baseline:')\n",
        "    !python ~/ParlAI/examples/eval_model.py -t babi:task10k:{i+1} -m baseline/majorityclass | grep accuracy\n",
        "    print('IR baseline:')\n",
        "    !python ~/ParlAI/examples/eval_model.py -t babi:task10k:{i+1} -m ir_baseline | grep accuracy"
      ],
      "execution_count": null,
      "outputs": [
        {
          "output_type": "stream",
          "text": [
            "~ Task 1 ~\n",
            "Majority class baseline:\n",
            "{'exs': 1000, 'accuracy': 0.169, 'f1': 0.169, 'bleu': 1.69e-10}\n",
            "IR baseline:\n",
            "{'exs': 1000, 'accuracy': 0.465, 'f1': 0.465, 'hits@1': 0.465, 'hits@5': 0.961, 'hits@10': 1.0, 'hits@100': 1.0, 'bleu': 4.65e-10}\n",
            "~ Task 2 ~\n",
            "Majority class baseline:\n",
            "{'exs': 1000, 'accuracy': 0.17, 'f1': 0.17, 'bleu': 1.7e-10}\n",
            "IR baseline:\n",
            "{'exs': 1000, 'accuracy': 0.284, 'f1': 0.284, 'hits@1': 0.284, 'hits@5': 0.9, 'hits@10': 1.0, 'hits@100': 1.0, 'bleu': 2.84e-10}\n",
            "~ Task 3 ~\n",
            "Majority class baseline:\n",
            "{'exs': 1000, 'accuracy': 0.203, 'f1': 0.203, 'bleu': 2.03e-10}\n",
            "IR baseline:\n",
            "{'exs': 1000, 'accuracy': 0.132, 'f1': 0.132, 'hits@1': 0.132, 'hits@5': 0.836, 'hits@10': 1.0, 'hits@100': 1.0, 'bleu': 1.32e-10}\n"
          ],
          "name": "stdout"
        }
      ]
    },
    {
      "cell_type": "markdown",
      "metadata": {
        "id": "xZGFSbEwJdvx"
      },
      "source": [
        "## 4. More elaborate models\n",
        "\n"
      ]
    },
    {
      "cell_type": "markdown",
      "metadata": {
        "id": "wj7onBcoyoZz"
      },
      "source": [
        "We can now continue to more elaborate models and evaluate their performance in perspective to the baselines.\n",
        "We will use the `~/ParlAI/examples/train_model.py` script. Let's first get a glance at its arguments:"
      ]
    },
    {
      "cell_type": "code",
      "metadata": {
        "id": "gZa5Xl5Bxxxe",
        "colab": {
          "base_uri": "https://localhost:8080/"
        },
        "outputId": "4541afbf-e814-43d0-898b-eebc40213972"
      },
      "source": [
        "!python ~/ParlAI/examples/train_model.py --help"
      ],
      "execution_count": null,
      "outputs": [
        {
          "output_type": "stream",
          "text": [
            "usage: train_model.py [-h] [-v] [-t TASK]\n",
            "                      [-dt {train,train:stream,train:ordered,train:ordered:stream,train:stream:ordered,train:evalmode,train:evalmode:stream,train:evalmode:ordered,train:evalmode:ordered:stream,train:evalmode:stream:ordered,valid,valid:stream,test,test:stream}]\n",
            "                      [-nt NUMTHREADS] [-bs BATCHSIZE] [-dp DATAPATH] [-m MODEL] [-mf MODEL_FILE] [-im INIT_MODEL] [-et EVALTASK]\n",
            "                      [-eps NUM_EPOCHS] [-ttim MAX_TRAIN_TIME] [-vtim VALIDATION_EVERY_N_SECS] [-stim SAVE_EVERY_N_SECS]\n",
            "                      [-sval SAVE_AFTER_VALID] [-veps VALIDATION_EVERY_N_EPOCHS] [-vp VALIDATION_PATIENCE]\n",
            "                      [-vmt VALIDATION_METRIC] [-vmm {max,min}] [-pyt PYTORCH_TEACHER_TASK] [-pytd PYTORCH_TEACHER_DATASET]\n",
            "\n",
            "Train a model\n",
            "\n",
            "optional arguments:\n",
            "  -h, --help\n",
            "        show this help message and exit\n",
            "\n",
            "Main ParlAI Arguments:\n",
            "  -v, --show-advanced-args\n",
            "        Show hidden command line options (advanced users only) (default: False)\n",
            "  -t, --task TASK\n",
            "        ParlAI task(s), e.g. \"babi:Task1\" or \"babi,cbt\" (default: None)\n",
            "  -dt, --datatype {train,train:stream,train:ordered,train:ordered:stream,train:stream:ordered,train:evalmode,train:evalmode:stream,train:evalmode:ordered,train:evalmode:ordered:stream,train:evalmode:stream:ordered,valid,valid:stream,test,test:stream}\n",
            "        choose from: train, train:ordered, valid, test. to stream data add \":stream\" to any option (e.g., train:stream). by\n",
            "        default: train is random with replacement, valid is ordered, test is ordered. (default: train)\n",
            "  -nt, --numthreads NUMTHREADS\n",
            "        number of threads. Used for hogwild if batchsize is 1, else for number of threads in threadpool loading, (default: 1)\n",
            "  -bs, --batchsize BATCHSIZE\n",
            "        batch size for minibatch training schemes (default: 1)\n",
            "  -dp, --datapath DATAPATH\n",
            "        path to datasets, defaults to {parlai_dir}/data (default: /root/ParlAI/data)\n",
            "\n",
            "ParlAI Model Arguments:\n",
            "  -m, --model MODEL\n",
            "        the model class name. can match parlai/agents/<model> for agents in that directory, or can provide a fully specified\n",
            "        module for `from X import Y` via `-m X:Y` (e.g. `-m parlai.agents.seq2seq.seq2seq:Seq2SeqAgent`) (default: None)\n",
            "  -mf, --model-file MODEL_FILE\n",
            "        model file name for loading and saving models (default: None)\n",
            "  -im, --init-model INIT_MODEL\n",
            "        load model weights and dict from this file (default: None)\n",
            "\n",
            "Training Loop Arguments:\n",
            "  -et, --evaltask EVALTASK\n",
            "        task to use for valid/test (defaults to the one used for training if not set) (default: None)\n",
            "  -eps, --num-epochs NUM_EPOCHS\n",
            "  -ttim, --max-train-time MAX_TRAIN_TIME\n",
            "  -vtim, --validation-every-n-secs VALIDATION_EVERY_N_SECS\n",
            "        Validate every n seconds. Saves model to model_file (if set) whenever best val metric is found (default: -1)\n",
            "  -stim, --save-every-n-secs SAVE_EVERY_N_SECS\n",
            "        Saves the model to model_file.checkpoint after every n seconds (default -1, never). (default: -1)\n",
            "  -sval, --save-after-valid SAVE_AFTER_VALID\n",
            "        Saves the model to model_file.checkpoint after every validation (default False).\n",
            "  -veps, --validation-every-n-epochs VALIDATION_EVERY_N_EPOCHS\n",
            "        Validate every n epochs. Saves model to model_file (if set) whenever best val metric is found (default: -1)\n",
            "  -vp, --validation-patience VALIDATION_PATIENCE\n",
            "        number of iterations of validation where result does not improve before we stop training (default: 10)\n",
            "  -vmt, --validation-metric VALIDATION_METRIC\n",
            "        key into report table for selecting best validation (default: accuracy)\n",
            "  -vmm, --validation-metric-mode {max,min}\n",
            "        how to optimize validation metric (max or min) (default: None)\n",
            "\n",
            "PytorchData Arguments:\n",
            "  -pyt, --pytorch-teacher-task PYTORCH_TEACHER_TASK\n",
            "        Use the PytorchDataTeacher for multiprocessed data loading with a standard ParlAI task, e.g. \"babi:Task1k\" (default: None)\n",
            "  -pytd, --pytorch-teacher-dataset PYTORCH_TEACHER_DATASET\n",
            "        Use the PytorchDataTeacher for multiprocessed data loading with a pytorch Dataset, e.g. \"vqa_1\" or \"flickr30k\" (default:\n",
            "        None)\n"
          ],
          "name": "stdout"
        }
      ]
    },
    {
      "cell_type": "markdown",
      "metadata": {
        "id": "s2apZUNj6JrS"
      },
      "source": [
        "We can train two types of models:\n",
        "- **Generative models**: The model generates an answer from its vocabulary.\n",
        "- **Ranking models**: The model is given a list of possible answers and has to choose the correct answer. This is much easier for the model since the list of possible answers is often way smaller than the size of the vocabulary\n"
      ]
    },
    {
      "cell_type": "markdown",
      "metadata": {
        "id": "HdBwoP2K36DH"
      },
      "source": [
        "### Generative model: seq2seq with attention\n",
        "\n",
        "The generative model we are going to train is a sequence to sequence model with attention based on [Sustskever et al. 2014](https://arxiv.org/abs/1409.3215) and [Bahdanau et al. 2014](https://arxiv.org/abs/1409.0473).\n",
        "      \n",
        "- **4.a.** Briefly explain how attention works in sequence to sequence neural networks.\n",
        "- **4.b.** Do you think attention is useful for the babi tasks? How would you verify it experimentally?\n",
        "\n",
        "#*ANSWER HERE*\n",
        "4.a In the case of seq2seq model. Attention we will help the decoder to know where to focus. Attention improve the accuracy.\n",
        "\n",
        "4.b  Yes attention is useful for babi tasks. We would verify it experimentally by the fact that each episode is created by looking at all input sentences according to some attention. Attention system gives a score for each of the sentences, and if the score is low for some sentence, it will be ignored when constructing the episode.\n",
        "\n",
        "---\n",
        "- **4.c.** Train a seq2seq on bAbI task 1 (10k) and compare its results to the baselines.\n",
        "   (*hint: for faster training use the following arguments `--batchsize 32 --numthreads 1 --num-epochs 5 --hiddensize 64 --embeddingsize 64 --numlayers 1 --decoder shared`)\n"
      ]
    },
    {
      "cell_type": "code",
      "metadata": {
        "id": "VIpwQj4NpY5s",
        "colab": {
          "base_uri": "https://localhost:8080/"
        },
        "outputId": "5802335a-5e1c-4340-c048-f30342915bf8"
      },
      "source": [
        "# FILL THIS CELL\n",
        "!python ~/ParlAI/examples/train_model.py --task babi:task10k:1 --model seq2seq  --model-file /tmp/babi_s2s --batchsize 32 --numthreads 1 --num-epochs 5 --hiddensize 64 --embeddingsize 64 --numlayers 1 --decoder shared"
      ],
      "execution_count": null,
      "outputs": [
        {
          "output_type": "stream",
          "text": [
            "[ Main ParlAI Arguments: ] \n",
            "[  batchsize: 32 ]\n",
            "[  datapath: /root/ParlAI/data ]\n",
            "[  datatype: train ]\n",
            "[  download_path: /root/ParlAI/downloads ]\n",
            "[  hide_labels: False ]\n",
            "[  image_mode: raw ]\n",
            "[  multitask_weights: [1] ]\n",
            "[  numthreads: 1 ]\n",
            "[  show_advanced_args: False ]\n",
            "[  task: babi:task10k:1 ]\n",
            "[ ParlAI Model Arguments: ] \n",
            "[  dict_class: parlai.core.dict:DictionaryAgent ]\n",
            "[  init_model: None ]\n",
            "[  model: seq2seq ]\n",
            "[  model_file: /tmp/babi_s2s ]\n",
            "[ Training Loop Arguments: ] \n",
            "[  dict_build_first: True ]\n",
            "[  display_examples: False ]\n",
            "[  eval_batchsize: None ]\n",
            "[  evaltask: None ]\n",
            "[  load_from_checkpoint: False ]\n",
            "[  max_train_time: -1 ]\n",
            "[  num_epochs: 5.0 ]\n",
            "[  save_after_valid: False ]\n",
            "[  save_every_n_secs: -1 ]\n",
            "[  validation_cutoff: 1.0 ]\n",
            "[  validation_every_n_epochs: -1 ]\n",
            "[  validation_every_n_secs: -1 ]\n",
            "[  validation_max_exs: -1 ]\n",
            "[  validation_metric: accuracy ]\n",
            "[  validation_metric_mode: None ]\n",
            "[  validation_patience: 10 ]\n",
            "[  validation_share_agent: False ]\n",
            "[ Tensorboard Arguments: ] \n",
            "[  tensorboard_comment:  ]\n",
            "[  tensorboard_log: False ]\n",
            "[  tensorboard_metrics: None ]\n",
            "[  tensorboard_tag: None ]\n",
            "[ PytorchData Arguments: ] \n",
            "[  batch_length_range: 5 ]\n",
            "[  batch_sort_cache_type: pop ]\n",
            "[  batch_sort_field: text ]\n",
            "[  numworkers: 4 ]\n",
            "[  pytorch_context_length: -1 ]\n",
            "[  pytorch_datapath: None ]\n",
            "[  pytorch_include_labels: True ]\n",
            "[  pytorch_preprocess: False ]\n",
            "[  pytorch_teacher_batch_sort: False ]\n",
            "[  pytorch_teacher_dataset: None ]\n",
            "[  pytorch_teacher_task: None ]\n",
            "[  shuffle: False ]\n",
            "[ Dictionary Loop Arguments: ] \n",
            "[  dict_include_test: False ]\n",
            "[  dict_include_valid: False ]\n",
            "[  dict_maxexs: -1 ]\n",
            "[  log_every_n_secs: 2 ]\n",
            "[ ParlAI Image Preprocessing Arguments: ] \n",
            "[  image_cropsize: 224 ]\n",
            "[  image_size: 256 ]\n",
            "[ Seq2Seq Arguments: ] \n",
            "[  attention: none ]\n",
            "[  attention_length: 48 ]\n",
            "[  attention_time: post ]\n",
            "[  bidirectional: False ]\n",
            "[  decoder: shared ]\n",
            "[  dropout: 0.1 ]\n",
            "[  embeddingsize: 64 ]\n",
            "[  hiddensize: 64 ]\n",
            "[  input_dropout: 0.0 ]\n",
            "[  lookuptable: unique ]\n",
            "[  numlayers: 1 ]\n",
            "[  numsoftmax: 1 ]\n",
            "[  rnn_class: lstm ]\n",
            "[ Torch Generator Agent: ] \n",
            "[  beam_block_ngram: 0 ]\n",
            "[  beam_dot_log: False ]\n",
            "[  beam_min_length: 1 ]\n",
            "[  beam_min_n_best: 3 ]\n",
            "[  beam_size: 1 ]\n",
            "[  skip_generation: False ]\n",
            "[ TorchAgent Arguments: ] \n",
            "[  add_p1_after_newln: False ]\n",
            "[  betas: (0.9, 0.999) ]\n",
            "[  delimiter: \n",
            " ]\n",
            "[  embedding_projection: random ]\n",
            "[  embedding_type: random ]\n",
            "[  gpu: -1 ]\n",
            "[  gradient_clip: 0.1 ]\n",
            "[  history_size: -1 ]\n",
            "[  label_truncate: None ]\n",
            "[  learningrate: 1 ]\n",
            "[  lr_scheduler: reduceonplateau ]\n",
            "[  lr_scheduler_decay: 0.5 ]\n",
            "[  lr_scheduler_patience: 3 ]\n",
            "[  momentum: 0 ]\n",
            "[  nesterov: True ]\n",
            "[  no_cuda: False ]\n",
            "[  nus: (0.7,) ]\n",
            "[  optimizer: sgd ]\n",
            "[  person_tokens: False ]\n",
            "[  rank_candidates: False ]\n",
            "[  split_lines: False ]\n",
            "[  text_truncate: None ]\n",
            "[  truncate: -1 ]\n",
            "[  update_freq: -1 ]\n",
            "[  use_reply: label ]\n",
            "[  warmup_rate: 0.0001 ]\n",
            "[  warmup_updates: -1 ]\n",
            "[ Dictionary Arguments: ] \n",
            "[  bpe_debug: False ]\n",
            "[  dict_endtoken: __end__ ]\n",
            "[  dict_file: None ]\n",
            "[  dict_initpath: None ]\n",
            "[  dict_language: english ]\n",
            "[  dict_lower: False ]\n",
            "[  dict_max_ngram_size: -1 ]\n",
            "[  dict_maxtokens: -1 ]\n",
            "[  dict_minfreq: 0 ]\n",
            "[  dict_nulltoken: __null__ ]\n",
            "[  dict_starttoken: __start__ ]\n",
            "[  dict_textfields: text,labels ]\n",
            "[  dict_tokenizer: re ]\n",
            "[  dict_unktoken: __unk__ ]\n",
            "[ building dictionary first... ]\n",
            "[creating task(s): babi:task10k:1]\n",
            "[ running dictionary over data.. ]\n",
            "Building dictionary:   0% 0.00/9.00k [00:00<?, ?ex/s][loading fbdialog data:/root/ParlAI/data/bAbI/tasks_1-20_v1-2/en-valid-10k-nosf/qa1_train.txt]\n",
            "Building dictionary:  82% 7.41k/9.00k [00:00<00:00, 24.6kex/s][loading fbdialog data:/root/ParlAI/data/bAbI/tasks_1-20_v1-2/en-valid-10k-nosf/qa1_train.txt]\n",
            "Building dictionary: 100% 9.00k/9.00k [00:00<00:00, 24.9kex/s]\n",
            "Dictionary: saving dictionary to /tmp/babi_s2s.dict\n",
            "[ dictionary built with 26 tokens in 0s ]\n",
            "[ no model with opt yet at: /tmp/babi_s2s(.opt) ]\n",
            "Dictionary: loading dictionary from /tmp/babi_s2s.dict\n",
            "[ num words =  26 ]\n",
            "/usr/local/lib/python3.7/dist-packages/torch/nn/_reduction.py:42: UserWarning: size_average and reduce args will be deprecated, please use reduction='sum' instead.\n",
            "  warnings.warn(warning.format(ret))\n",
            "[creating task(s): babi:task10k:1]\n",
            "[loading fbdialog data:/root/ParlAI/data/bAbI/tasks_1-20_v1-2/en-valid-10k-nosf/qa1_train.txt]\n",
            "[ training... ]\n",
            "[ time:2.0s total_exs:544 epochs:0.06 time_left:168.0s ] {'exs': 544, 'lr': 1, 'num_updates': 17, 'loss': 31.13, 'token_acc': 0.4494, 'nll_loss': 1.831, 'ppl': 6.24}\n",
            "[ time:4.0s total_exs:1088 epochs:0.12 time_left:167.0s ] {'exs': 544, 'lr': 1, 'num_updates': 34, 'loss': 18.92, 'token_acc': 0.5809, 'nll_loss': 1.113, 'ppl': 3.043}\n",
            "[ time:6.0s total_exs:1632 epochs:0.18 time_left:164.0s ] {'exs': 544, 'lr': 1, 'num_updates': 51, 'loss': 17.87, 'token_acc': 0.5754, 'nll_loss': 1.051, 'ppl': 2.86}\n",
            "[ time:8.0s total_exs:2176 epochs:0.24 time_left:161.0s ] {'exs': 544, 'lr': 1, 'num_updates': 68, 'loss': 17.61, 'token_acc': 0.5818, 'nll_loss': 1.036, 'ppl': 2.818}\n",
            "[ time:10.0s total_exs:2720 epochs:0.3 time_left:160.0s ] {'exs': 544, 'lr': 1, 'num_updates': 85, 'loss': 17.43, 'token_acc': 0.5892, 'nll_loss': 1.026, 'ppl': 2.789}\n",
            "[ time:12.0s total_exs:3296 epochs:0.37 time_left:156.0s ] {'exs': 576, 'lr': 1, 'num_updates': 103, 'loss': 17.91, 'token_acc': 0.5964, 'nll_loss': 0.9948, 'ppl': 2.704}\n",
            "[ time:14.0s total_exs:3840 epochs:0.43 time_left:155.0s ] {'exs': 544, 'lr': 1, 'num_updates': 120, 'loss': 16.85, 'token_acc': 0.5855, 'nll_loss': 0.9913, 'ppl': 2.695}\n",
            "[ time:16.0s total_exs:4448 epochs:0.49 time_left:152.0s ] {'exs': 608, 'lr': 1, 'num_updates': 139, 'loss': 18.81, 'token_acc': 0.5921, 'nll_loss': 0.9902, 'ppl': 2.692}\n",
            "[ time:18.0s total_exs:5024 epochs:0.56 time_left:149.0s ] {'exs': 576, 'lr': 1, 'num_updates': 157, 'loss': 17.76, 'token_acc': 0.5938, 'nll_loss': 0.9869, 'ppl': 2.683}\n",
            "[ time:20.0s total_exs:5568 epochs:0.62 time_left:147.0s ] {'exs': 544, 'lr': 1, 'num_updates': 174, 'loss': 17.04, 'token_acc': 0.5919, 'nll_loss': 1.003, 'ppl': 2.725}\n",
            "[ time:22.0s total_exs:6080 epochs:0.68 time_left:147.0s ] {'exs': 512, 'lr': 1, 'num_updates': 190, 'loss': 15.46, 'token_acc': 0.5957, 'nll_loss': 0.9659, 'ppl': 2.627}\n",
            "[ time:25.0s total_exs:6688 epochs:0.74 time_left:144.0s ] {'exs': 608, 'lr': 1, 'num_updates': 209, 'loss': 18.37, 'token_acc': 0.5929, 'nll_loss': 0.9671, 'ppl': 2.63}\n",
            "[ time:27.0s total_exs:7200 epochs:0.8 time_left:143.0s ] {'exs': 512, 'lr': 1, 'num_updates': 225, 'loss': 15.41, 'token_acc': 0.5938, 'nll_loss': 0.9632, 'ppl': 2.62}\n",
            "[ time:29.0s total_exs:7808 epochs:0.87 time_left:140.0s ] {'exs': 608, 'lr': 1, 'num_updates': 244, 'loss': 17.98, 'token_acc': 0.5987, 'nll_loss': 0.9463, 'ppl': 2.576}\n",
            "[ time:31.0s total_exs:8320 epochs:0.92 time_left:139.0s ] {'exs': 512, 'lr': 1, 'num_updates': 260, 'loss': 15.43, 'token_acc': 0.5986, 'nll_loss': 0.9643, 'ppl': 2.623}\n",
            "[ time:33.0s total_exs:8896 epochs:0.99 time_left:136.0s ] {'exs': 576, 'lr': 1, 'num_updates': 278, 'loss': 17.44, 'token_acc': 0.5851, 'nll_loss': 0.9689, 'ppl': 2.635}\n",
            "[ time:35.0s total_exs:9376 epochs:1.04 time_left:135.0s ] {'exs': 480, 'lr': 1, 'num_updates': 293, 'loss': 14.37, 'token_acc': 0.599, 'nll_loss': 0.9581, 'ppl': 2.607}\n",
            "[ time:37.0s total_exs:9888 epochs:1.1 time_left:134.0s ] {'exs': 512, 'lr': 1, 'num_updates': 309, 'loss': 14.79, 'token_acc': 0.6201, 'nll_loss': 0.9246, 'ppl': 2.521}\n",
            "[ time:39.0s total_exs:10464 epochs:1.16 time_left:132.0s ] {'exs': 576, 'lr': 1, 'num_updates': 327, 'loss': 16.8, 'token_acc': 0.6198, 'nll_loss': 0.9334, 'ppl': 2.543}\n",
            "[ time:41.0s total_exs:10976 epochs:1.22 time_left:130.0s ] {'exs': 512, 'lr': 1, 'num_updates': 343, 'loss': 14.55, 'token_acc': 0.627, 'nll_loss': 0.9092, 'ppl': 2.482}\n",
            "[ time:43.0s total_exs:11520 epochs:1.28 time_left:128.0s ] {'exs': 544, 'lr': 1, 'num_updates': 360, 'loss': 15.44, 'token_acc': 0.6131, 'nll_loss': 0.9081, 'ppl': 2.48}\n",
            "[ time:46.0s total_exs:12000 epochs:1.33 time_left:127.0s ] {'exs': 480, 'lr': 1, 'num_updates': 375, 'loss': 13.39, 'token_acc': 0.6354, 'nll_loss': 0.8929, 'ppl': 2.442}\n",
            "[ time:48.0s total_exs:12608 epochs:1.4 time_left:124.0s ] {'exs': 608, 'lr': 1, 'num_updates': 394, 'loss': 17.02, 'token_acc': 0.6349, 'nll_loss': 0.8957, 'ppl': 2.449}\n",
            "[ time:50.0s total_exs:13120 epochs:1.46 time_left:123.0s ] {'exs': 512, 'lr': 1, 'num_updates': 410, 'loss': 14.17, 'token_acc': 0.6396, 'nll_loss': 0.8855, 'ppl': 2.424}\n",
            "[ time:52.0s total_exs:13728 epochs:1.53 time_left:120.0s ] {'exs': 608, 'lr': 1, 'num_updates': 429, 'loss': 16.69, 'token_acc': 0.6439, 'nll_loss': 0.8786, 'ppl': 2.407}\n",
            "[ time:54.0s total_exs:14240 epochs:1.58 time_left:118.0s ] {'exs': 512, 'lr': 1, 'num_updates': 445, 'loss': 13.76, 'token_acc': 0.6641, 'nll_loss': 0.8599, 'ppl': 2.363}\n",
            "[ time:56.0s total_exs:14848 epochs:1.65 time_left:115.0s ] {'exs': 608, 'lr': 1, 'num_updates': 464, 'loss': 15.8, 'token_acc': 0.6834, 'nll_loss': 0.8317, 'ppl': 2.297}\n",
            "[ time:58.0s total_exs:15392 epochs:1.71 time_left:113.0s ] {'exs': 544, 'lr': 1, 'num_updates': 481, 'loss': 14.03, 'token_acc': 0.6866, 'nll_loss': 0.8251, 'ppl': 2.282}\n",
            "[ time:60.0s total_exs:15936 epochs:1.77 time_left:111.0s ] {'exs': 544, 'lr': 1, 'num_updates': 498, 'loss': 14.28, 'token_acc': 0.6783, 'nll_loss': 0.8398, 'ppl': 2.316}\n",
            "[ time:62.0s total_exs:16480 epochs:1.83 time_left:109.0s ] {'exs': 544, 'lr': 1, 'num_updates': 515, 'loss': 14.08, 'token_acc': 0.6792, 'nll_loss': 0.8283, 'ppl': 2.289}\n",
            "[ time:64.0s total_exs:17120 epochs:1.9 time_left:106.0s ] {'exs': 640, 'lr': 1, 'num_updates': 535, 'loss': 16.44, 'token_acc': 0.7094, 'nll_loss': 0.8218, 'ppl': 2.275}\n",
            "[ time:67.0s total_exs:17728 epochs:1.97 time_left:104.0s ] {'exs': 608, 'lr': 1, 'num_updates': 554, 'loss': 15.55, 'token_acc': 0.6965, 'nll_loss': 0.8186, 'ppl': 2.267}\n",
            "[ time:69.0s total_exs:18336 epochs:2.04 time_left:101.0s ] {'exs': 608, 'lr': 1, 'num_updates': 573, 'loss': 15.3, 'token_acc': 0.7048, 'nll_loss': 0.8053, 'ppl': 2.237}\n",
            "[ time:71.0s total_exs:18880 epochs:2.1 time_left:99.0s ] {'exs': 544, 'lr': 1, 'num_updates': 590, 'loss': 12.79, 'token_acc': 0.716, 'nll_loss': 0.7526, 'ppl': 2.122}\n",
            "[ time:73.0s total_exs:19456 epochs:2.16 time_left:97.0s ] {'exs': 576, 'lr': 1, 'num_updates': 608, 'loss': 13.5, 'token_acc': 0.737, 'nll_loss': 0.7503, 'ppl': 2.118}\n",
            "[ time:75.0s total_exs:19968 epochs:2.22 time_left:95.0s ] {'exs': 512, 'lr': 1, 'num_updates': 624, 'loss': 12.22, 'token_acc': 0.7188, 'nll_loss': 0.7637, 'ppl': 2.146}\n",
            "[ time:77.0s total_exs:20448 epochs:2.27 time_left:93.0s ] {'exs': 480, 'lr': 1, 'num_updates': 639, 'loss': 11.28, 'token_acc': 0.7292, 'nll_loss': 0.7522, 'ppl': 2.122}\n",
            "[ time:79.0s total_exs:20960 epochs:2.33 time_left:92.0s ] {'exs': 512, 'lr': 1, 'num_updates': 655, 'loss': 12.02, 'token_acc': 0.7471, 'nll_loss': 0.7514, 'ppl': 2.12}\n",
            "[ time:81.0s total_exs:21568 epochs:2.4 time_left:89.0s ] {'exs': 608, 'lr': 1, 'num_updates': 674, 'loss': 13.98, 'token_acc': 0.7418, 'nll_loss': 0.7359, 'ppl': 2.087}\n",
            "[ time:83.0s total_exs:22144 epochs:2.46 time_left:87.0s ] {'exs': 576, 'lr': 1, 'num_updates': 692, 'loss': 13.6, 'token_acc': 0.7352, 'nll_loss': 0.7556, 'ppl': 2.129}\n",
            "[ time:85.0s total_exs:22688 epochs:2.52 time_left:85.0s ] {'exs': 544, 'lr': 1, 'num_updates': 709, 'loss': 12.87, 'token_acc': 0.7316, 'nll_loss': 0.7571, 'ppl': 2.132}\n",
            "[ time:87.0s total_exs:23200 epochs:2.58 time_left:83.0s ] {'exs': 512, 'lr': 1, 'num_updates': 725, 'loss': 11.64, 'token_acc': 0.7451, 'nll_loss': 0.7277, 'ppl': 2.07}\n",
            "[ time:89.0s total_exs:23808 epochs:2.65 time_left:80.0s ] {'exs': 608, 'lr': 1, 'num_updates': 744, 'loss': 13.77, 'token_acc': 0.7385, 'nll_loss': 0.7247, 'ppl': 2.064}\n",
            "[ time:92.0s total_exs:24320 epochs:2.7 time_left:79.0s ] {'exs': 512, 'lr': 1, 'num_updates': 760, 'loss': 12.05, 'token_acc': 0.7168, 'nll_loss': 0.7534, 'ppl': 2.124}\n",
            "[ time:94.0s total_exs:24896 epochs:2.77 time_left:77.0s ] {'exs': 576, 'lr': 1, 'num_updates': 778, 'loss': 13.33, 'token_acc': 0.737, 'nll_loss': 0.7403, 'ppl': 2.097}\n",
            "[ time:96.0s total_exs:25376 epochs:2.82 time_left:75.0s ] {'exs': 480, 'lr': 1, 'num_updates': 793, 'loss': 10.31, 'token_acc': 0.7521, 'nll_loss': 0.6872, 'ppl': 1.988}\n",
            "[ time:98.0s total_exs:25888 epochs:2.88 time_left:73.0s ] {'exs': 512, 'lr': 1, 'num_updates': 809, 'loss': 12.27, 'token_acc': 0.7246, 'nll_loss': 0.7671, 'ppl': 2.154}\n",
            "[ time:100.0s total_exs:26400 epochs:2.93 time_left:71.0s ] {'exs': 512, 'lr': 1, 'num_updates': 825, 'loss': 11.12, 'token_acc': 0.7422, 'nll_loss': 0.6953, 'ppl': 2.004}\n",
            "[ time:102.0s total_exs:27008 epochs:3.0 time_left:69.0s ] {'exs': 608, 'lr': 1, 'num_updates': 844, 'loss': 13.74, 'token_acc': 0.7418, 'nll_loss': 0.7234, 'ppl': 2.061}\n",
            "[ time:104.0s total_exs:27520 epochs:3.06 time_left:67.0s ] {'exs': 512, 'lr': 1, 'num_updates': 860, 'loss': 11.35, 'token_acc': 0.7363, 'nll_loss': 0.7095, 'ppl': 2.033}\n",
            "[ time:106.0s total_exs:28096 epochs:3.12 time_left:65.0s ] {'exs': 576, 'lr': 1, 'num_updates': 878, 'loss': 12.15, 'token_acc': 0.7639, 'nll_loss': 0.6749, 'ppl': 1.964}\n",
            "[ time:108.0s total_exs:28608 epochs:3.18 time_left:63.0s ] {'exs': 512, 'lr': 1, 'num_updates': 894, 'loss': 10.92, 'token_acc': 0.7568, 'nll_loss': 0.6827, 'ppl': 1.979}\n",
            "[ time:110.0s total_exs:29120 epochs:3.24 time_left:61.0s ] {'exs': 512, 'lr': 1, 'num_updates': 910, 'loss': 11.64, 'token_acc': 0.7393, 'nll_loss': 0.7277, 'ppl': 2.07}\n",
            "[ time:112.0s total_exs:29664 epochs:3.3 time_left:59.0s ] {'exs': 544, 'lr': 1, 'num_updates': 927, 'loss': 11.34, 'token_acc': 0.7684, 'nll_loss': 0.6671, 'ppl': 1.949}\n",
            "[ time:115.0s total_exs:30208 epochs:3.36 time_left:57.0s ] {'exs': 544, 'lr': 1, 'num_updates': 944, 'loss': 12.12, 'token_acc': 0.7408, 'nll_loss': 0.7127, 'ppl': 2.04}\n",
            "[ time:117.0s total_exs:30720 epochs:3.41 time_left:55.0s ] {'exs': 512, 'lr': 1, 'num_updates': 960, 'loss': 11.11, 'token_acc': 0.75, 'nll_loss': 0.6941, 'ppl': 2.002}\n",
            "[ time:119.0s total_exs:31328 epochs:3.48 time_left:53.0s ] {'exs': 608, 'lr': 1, 'num_updates': 979, 'loss': 13.04, 'token_acc': 0.7467, 'nll_loss': 0.6863, 'ppl': 1.986}\n",
            "[ time:121.0s total_exs:31936 epochs:3.55 time_left:50.0s ] {'exs': 608, 'lr': 1, 'num_updates': 998, 'loss': 12.53, 'token_acc': 0.7508, 'nll_loss': 0.6597, 'ppl': 1.934}\n",
            "[ time:123.0s total_exs:32480 epochs:3.61 time_left:48.0s ] {'exs': 544, 'lr': 1, 'num_updates': 1015, 'loss': 12.31, 'token_acc': 0.7362, 'nll_loss': 0.7239, 'ppl': 2.062}\n",
            "[ time:125.0s total_exs:33088 epochs:3.68 time_left:46.0s ] {'exs': 608, 'lr': 1, 'num_updates': 1034, 'loss': 12.96, 'token_acc': 0.741, 'nll_loss': 0.6821, 'ppl': 1.978}\n",
            "[ time:127.0s total_exs:33696 epochs:3.74 time_left:43.0s ] {'exs': 608, 'lr': 1, 'num_updates': 1053, 'loss': 12.95, 'token_acc': 0.7541, 'nll_loss': 0.6816, 'ppl': 1.977}\n",
            "[ time:129.0s total_exs:34208 epochs:3.8 time_left:41.0s ] {'exs': 512, 'lr': 1, 'num_updates': 1069, 'loss': 11.09, 'token_acc': 0.751, 'nll_loss': 0.6932, 'ppl': 2.0}\n",
            "[ time:131.0s total_exs:34720 epochs:3.86 time_left:40.0s ] {'exs': 512, 'lr': 1, 'num_updates': 1085, 'loss': 10.57, 'token_acc': 0.7588, 'nll_loss': 0.6609, 'ppl': 1.937}\n",
            "[ time:133.0s total_exs:35264 epochs:3.92 time_left:37.0s ] {'exs': 544, 'lr': 1, 'num_updates': 1102, 'loss': 10.77, 'token_acc': 0.7592, 'nll_loss': 0.6335, 'ppl': 1.884}\n",
            "[ time:135.0s total_exs:35808 epochs:3.98 time_left:35.0s ] {'exs': 544, 'lr': 1, 'num_updates': 1119, 'loss': 10.99, 'token_acc': 0.7491, 'nll_loss': 0.6466, 'ppl': 1.909}\n",
            "[ time:138.0s total_exs:36320 epochs:4.04 time_left:34.0s ] {'exs': 512, 'lr': 1, 'num_updates': 1135, 'loss': 10.56, 'token_acc': 0.7588, 'nll_loss': 0.6597, 'ppl': 1.934}\n",
            "[ time:140.0s total_exs:36928 epochs:4.1 time_left:31.0s ] {'exs': 608, 'lr': 1, 'num_updates': 1154, 'loss': 11.91, 'token_acc': 0.7623, 'nll_loss': 0.6267, 'ppl': 1.871}\n",
            "[ time:142.0s total_exs:37504 epochs:4.17 time_left:29.0s ] {'exs': 576, 'lr': 1, 'num_updates': 1172, 'loss': 11.6, 'token_acc': 0.7656, 'nll_loss': 0.6446, 'ppl': 1.905}\n",
            "[ time:144.0s total_exs:38080 epochs:4.23 time_left:27.0s ] {'exs': 576, 'lr': 1, 'num_updates': 1190, 'loss': 11.7, 'token_acc': 0.7613, 'nll_loss': 0.6499, 'ppl': 1.915}\n",
            "[ time:146.0s total_exs:38720 epochs:4.3 time_left:24.0s ] {'exs': 640, 'lr': 1, 'num_updates': 1210, 'loss': 12.75, 'token_acc': 0.7711, 'nll_loss': 0.6375, 'ppl': 1.892}\n",
            "[ time:148.0s total_exs:39328 epochs:4.37 time_left:22.0s ] {'exs': 608, 'lr': 1, 'num_updates': 1229, 'loss': 12.56, 'token_acc': 0.7525, 'nll_loss': 0.6609, 'ppl': 1.937}\n",
            "[ time:150.0s total_exs:39936 epochs:4.44 time_left:20.0s ] {'exs': 608, 'lr': 1, 'num_updates': 1248, 'loss': 11.94, 'token_acc': 0.764, 'nll_loss': 0.6283, 'ppl': 1.874}\n",
            "[ time:152.0s total_exs:40448 epochs:4.49 time_left:18.0s ] {'exs': 512, 'lr': 1, 'num_updates': 1264, 'loss': 9.942, 'token_acc': 0.7539, 'nll_loss': 0.6214, 'ppl': 1.861}\n",
            "[ time:154.0s total_exs:40960 epochs:4.55 time_left:16.0s ] {'exs': 512, 'lr': 1, 'num_updates': 1280, 'loss': 10.46, 'token_acc': 0.7363, 'nll_loss': 0.6537, 'ppl': 1.923}\n",
            "[ time:157.0s total_exs:41568 epochs:4.62 time_left:13.0s ] {'exs': 608, 'lr': 1, 'num_updates': 1299, 'loss': 11.79, 'token_acc': 0.75, 'nll_loss': 0.6204, 'ppl': 1.86}\n",
            "[ time:159.0s total_exs:42080 epochs:4.68 time_left:12.0s ] {'exs': 512, 'lr': 1, 'num_updates': 1315, 'loss': 10.16, 'token_acc': 0.7471, 'nll_loss': 0.6353, 'ppl': 1.888}\n",
            "[ time:161.0s total_exs:42624 epochs:4.74 time_left:9.0s ] {'exs': 544, 'lr': 1, 'num_updates': 1332, 'loss': 10.21, 'token_acc': 0.7702, 'nll_loss': 0.6007, 'ppl': 1.823}\n",
            "[ time:163.0s total_exs:43200 epochs:4.8 time_left:7.0s ] {'exs': 576, 'lr': 1, 'num_updates': 1350, 'loss': 11.33, 'token_acc': 0.7656, 'nll_loss': 0.6293, 'ppl': 1.876}\n",
            "[ time:165.0s total_exs:43808 epochs:4.87 time_left:5.0s ] {'exs': 608, 'lr': 1, 'num_updates': 1369, 'loss': 11.73, 'token_acc': 0.7558, 'nll_loss': 0.6176, 'ppl': 1.854}\n",
            "[ time:167.0s total_exs:44320 epochs:4.92 time_left:3.0s ] {'exs': 512, 'lr': 1, 'num_updates': 1385, 'loss': 10.48, 'token_acc': 0.7676, 'nll_loss': 0.6549, 'ppl': 1.925}\n",
            "[ time:169.0s total_exs:44928 epochs:4.99 time_left:1.0s ] {'exs': 608, 'lr': 1, 'num_updates': 1404, 'loss': 12.66, 'token_acc': 0.7344, 'nll_loss': 0.6663, 'ppl': 1.947}\n",
            "[ time:169.0s total_exs:45024 epochs:5.0 time_left:0s ] {'exs': 96, 'lr': 1, 'num_updates': 1407, 'loss': 1.996, 'token_acc': 0.7656, 'nll_loss': 0.6653, 'ppl': 1.945}\n",
            "[ num_epochs completed:5.0 time elapsed:169.9198956489563s ]\n",
            "[creating task(s): babi:task10k:1]\n",
            "[loading fbdialog data:/root/ParlAI/data/bAbI/tasks_1-20_v1-2/en-valid-10k-nosf/qa1_valid.txt]\n",
            "[ running eval: valid ]\n",
            "valid:{'exs': 1000, 'accuracy': 0.545, 'f1': 0.545, 'bleu': 5.45e-10, 'lr': 1, 'num_updates': 1407, 'loss': 20.33, 'token_acc': 0.7725, 'nll_loss': 0.5719, 'ppl': 1.772}\n",
            "[creating task(s): babi:task10k:1]\n",
            "[loading fbdialog data:/root/ParlAI/data/bAbI/tasks_1-20_v1-2/en-valid-10k-nosf/qa1_test.txt]\n",
            "[ running eval: test ]\n",
            "test:{'exs': 1000, 'accuracy': 0.486, 'f1': 0.486, 'bleu': 4.86e-10, 'lr': 1, 'num_updates': 1407, 'loss': 21.63, 'token_acc': 0.743, 'nll_loss': 0.6199, 'ppl': 1.859}\n"
          ],
          "name": "stdout"
        }
      ]
    },
    {
      "cell_type": "code",
      "metadata": {
        "id": "OvxjgtEHTXFb",
        "colab": {
          "base_uri": "https://localhost:8080/"
        },
        "outputId": "1367b7e0-2d52-4e3a-c299-d30f7523f983"
      },
      "source": [
        "!python ~/ParlAI/examples/display_model.py --task babi:task10k:1 --model seq2seq --model-file /tmp/babi_s2s"
      ],
      "execution_count": null,
      "outputs": [
        {
          "output_type": "stream",
          "text": [
            "[ optional arguments: ] \n",
            "[  display_ignore_fields:  ]\n",
            "[  num_examples: 10 ]\n",
            "[ Main ParlAI Arguments: ] \n",
            "[  batchsize: 1 ]\n",
            "[  datapath: /root/ParlAI/data ]\n",
            "[  datatype: valid ]\n",
            "[  download_path: /root/ParlAI/downloads ]\n",
            "[  hide_labels: False ]\n",
            "[  image_mode: raw ]\n",
            "[  multitask_weights: [1] ]\n",
            "[  numthreads: 1 ]\n",
            "[  show_advanced_args: False ]\n",
            "[  task: babi:task10k:1 ]\n",
            "[ ParlAI Model Arguments: ] \n",
            "[  dict_class: parlai.core.dict:DictionaryAgent ]\n",
            "[  init_model: None ]\n",
            "[  model: seq2seq ]\n",
            "[  model_file: /tmp/babi_s2s ]\n",
            "[ ParlAI Image Preprocessing Arguments: ] \n",
            "[  image_cropsize: 224 ]\n",
            "[  image_size: 256 ]\n",
            "[ Seq2Seq Arguments: ] \n",
            "[  attention: none ]\n",
            "[  attention_length: 48 ]\n",
            "[  attention_time: post ]\n",
            "[  bidirectional: False ]\n",
            "[  decoder: same ]\n",
            "[  dropout: 0.1 ]\n",
            "[  embeddingsize: 128 ]\n",
            "[  hiddensize: 128 ]\n",
            "[  input_dropout: 0.0 ]\n",
            "[  lookuptable: unique ]\n",
            "[  numlayers: 2 ]\n",
            "[  numsoftmax: 1 ]\n",
            "[  rnn_class: lstm ]\n",
            "[ Torch Generator Agent: ] \n",
            "[  beam_block_ngram: 0 ]\n",
            "[  beam_dot_log: False ]\n",
            "[  beam_min_length: 1 ]\n",
            "[  beam_min_n_best: 3 ]\n",
            "[  beam_size: 1 ]\n",
            "[  skip_generation: False ]\n",
            "[ TorchAgent Arguments: ] \n",
            "[  add_p1_after_newln: False ]\n",
            "[  betas: (0.9, 0.999) ]\n",
            "[  delimiter: \n",
            " ]\n",
            "[  embedding_projection: random ]\n",
            "[  embedding_type: random ]\n",
            "[  gpu: -1 ]\n",
            "[  gradient_clip: 0.1 ]\n",
            "[  history_size: -1 ]\n",
            "[  label_truncate: None ]\n",
            "[  learningrate: 1 ]\n",
            "[  lr_scheduler: reduceonplateau ]\n",
            "[  lr_scheduler_decay: 0.5 ]\n",
            "[  lr_scheduler_patience: 3 ]\n",
            "[  momentum: 0 ]\n",
            "[  nesterov: True ]\n",
            "[  no_cuda: False ]\n",
            "[  nus: (0.7,) ]\n",
            "[  optimizer: sgd ]\n",
            "[  person_tokens: False ]\n",
            "[  rank_candidates: False ]\n",
            "[  split_lines: False ]\n",
            "[  text_truncate: None ]\n",
            "[  truncate: -1 ]\n",
            "[  update_freq: -1 ]\n",
            "[  use_reply: label ]\n",
            "[  warmup_rate: 0.0001 ]\n",
            "[  warmup_updates: -1 ]\n",
            "[ Dictionary Arguments: ] \n",
            "[  bpe_debug: False ]\n",
            "[  dict_endtoken: __end__ ]\n",
            "[  dict_file: None ]\n",
            "[  dict_initpath: None ]\n",
            "[  dict_language: english ]\n",
            "[  dict_lower: False ]\n",
            "[  dict_max_ngram_size: -1 ]\n",
            "[  dict_maxtokens: -1 ]\n",
            "[  dict_minfreq: 0 ]\n",
            "[  dict_nulltoken: __null__ ]\n",
            "[  dict_starttoken: __start__ ]\n",
            "[  dict_textfields: text,labels ]\n",
            "[  dict_tokenizer: re ]\n",
            "[  dict_unktoken: __unk__ ]\n",
            "Dictionary: loading dictionary from /tmp/babi_s2s.dict\n",
            "[ num words =  26 ]\n",
            "/usr/local/lib/python3.7/dist-packages/torch/nn/_reduction.py:42: UserWarning: size_average and reduce args will be deprecated, please use reduction='sum' instead.\n",
            "  warnings.warn(warning.format(ret))\n",
            "[ Loading existing model params from /tmp/babi_s2s ]\n",
            "/root/ParlAI/parlai/core/torch_agent.py:727: UserWarning: LR scheduler is different from saved. Starting fresh!\n",
            "  warn_once(\"LR scheduler is different from saved. Starting fresh!\")\n",
            "[creating task(s): babi:task10k:1]\n",
            "[loading fbdialog data:/root/ParlAI/data/bAbI/tasks_1-20_v1-2/en-valid-10k-nosf/qa1_valid.txt]\n",
            "[eval_labels_choice]: bathroom\n",
            "[babi:task10k:1]: Sandra travelled to the office.\n",
            "Sandra went to the bathroom.\n",
            "Where is Sandra?\n",
            "[eval_labels: bathroom]\n",
            "[label_candidates: bedroom|garden|hallway|kitchen|office|...and 1 more]\n",
            "   [Seq2Seq]: bathroom\n",
            "~~\n",
            "[eval_labels_choice]: bathroom\n",
            "[babi:task10k:1]: Sandra travelled to the office.\n",
            "Sandra went to the bathroom.\n",
            "Where is Sandra?\n",
            "bathroom\n",
            "Mary went to the bedroom.\n",
            "Daniel moved to the hallway.\n",
            "Where is Sandra?\n",
            "[eval_labels: bathroom]\n",
            "[label_candidates: bedroom|garden|hallway|kitchen|office|...and 1 more]\n",
            "   [Seq2Seq]: hallway\n",
            "~~\n",
            "[eval_labels_choice]: bathroom\n",
            "[babi:task10k:1]: Sandra travelled to the office.\n",
            "Sandra went to the bathroom.\n",
            "Where is Sandra?\n",
            "bathroom\n",
            "Mary went to the bedroom.\n",
            "Daniel moved to the hallway.\n",
            "Where is Sandra?\n",
            "bathroom\n",
            "John went to the garden.\n",
            "John travelled to the office.\n",
            "Where is Sandra?\n",
            "[eval_labels: bathroom]\n",
            "[label_candidates: bedroom|garden|hallway|kitchen|office|...and 1 more]\n",
            "   [Seq2Seq]: office\n",
            "~~\n",
            "[eval_labels_choice]: office\n",
            "[babi:task10k:1]: Sandra travelled to the office.\n",
            "Sandra went to the bathroom.\n",
            "Where is Sandra?\n",
            "bathroom\n",
            "Mary went to the bedroom.\n",
            "Daniel moved to the hallway.\n",
            "Where is Sandra?\n",
            "bathroom\n",
            "John went to the garden.\n",
            "John travelled to the office.\n",
            "Where is Sandra?\n",
            "bathroom\n",
            "Daniel journeyed to the bedroom.\n",
            "Daniel travelled to the hallway.\n",
            "Where is John?\n",
            "[eval_labels: office]\n",
            "[label_candidates: bedroom|garden|hallway|kitchen|office|...and 1 more]\n",
            "   [Seq2Seq]: hallway\n",
            "~~\n",
            "[eval_labels_choice]: hallway\n",
            "[babi:task10k:1]: Sandra travelled to the office.\n",
            "Sandra went to the bathroom.\n",
            "Where is Sandra?\n",
            "bathroom\n",
            "Mary went to the bedroom.\n",
            "Daniel moved to the hallway.\n",
            "Where is Sandra?\n",
            "bathroom\n",
            "John went to the garden.\n",
            "John travelled to the office.\n",
            "Where is Sandra?\n",
            "bathroom\n",
            "Daniel journeyed to the bedroom.\n",
            "Daniel travelled to the hallway.\n",
            "Where is John?\n",
            "office\n",
            "John went to the bedroom.\n",
            "John travelled to the office.\n",
            "Where is Daniel?\n",
            "[eval_labels: hallway]\n",
            "[label_candidates: bedroom|garden|hallway|kitchen|office|...and 1 more]\n",
            "   [Seq2Seq]: bedroom\n",
            "- - - - - - - - - - - - - - - - - - - - -\n",
            "~~\n",
            "[eval_labels_choice]: garden\n",
            "[babi:task10k:1]: Sandra went back to the bathroom.\n",
            "Mary moved to the garden.\n",
            "Where is Mary?\n",
            "[eval_labels: garden]\n",
            "[label_candidates: bedroom|garden|hallway|kitchen|office|...and 1 more]\n",
            "   [Seq2Seq]: garden\n",
            "~~\n",
            "[eval_labels_choice]: office\n",
            "[babi:task10k:1]: Sandra went back to the bathroom.\n",
            "Mary moved to the garden.\n",
            "Where is Mary?\n",
            "garden\n",
            "Mary went back to the hallway.\n",
            "Sandra went to the office.\n",
            "Where is Sandra?\n",
            "[eval_labels: office]\n",
            "[label_candidates: bedroom|garden|hallway|kitchen|office|...and 1 more]\n",
            "   [Seq2Seq]: office\n",
            "~~\n",
            "[eval_labels_choice]: office\n",
            "[babi:task10k:1]: Sandra went back to the bathroom.\n",
            "Mary moved to the garden.\n",
            "Where is Mary?\n",
            "garden\n",
            "Mary went back to the hallway.\n",
            "Sandra went to the office.\n",
            "Where is Sandra?\n",
            "office\n",
            "John went back to the hallway.\n",
            "John travelled to the office.\n",
            "Where is Sandra?\n",
            "[eval_labels: office]\n",
            "[label_candidates: bedroom|garden|hallway|kitchen|office|...and 1 more]\n",
            "   [Seq2Seq]: office\n",
            "~~\n",
            "[eval_labels_choice]: office\n",
            "[babi:task10k:1]: Sandra went back to the bathroom.\n",
            "Mary moved to the garden.\n",
            "Where is Mary?\n",
            "garden\n",
            "Mary went back to the hallway.\n",
            "Sandra went to the office.\n",
            "Where is Sandra?\n",
            "office\n",
            "John went back to the hallway.\n",
            "John travelled to the office.\n",
            "Where is Sandra?\n",
            "office\n",
            "Sandra journeyed to the hallway.\n",
            "Daniel moved to the office.\n",
            "Where is John?\n",
            "[eval_labels: office]\n",
            "[label_candidates: bedroom|garden|hallway|kitchen|office|...and 1 more]\n",
            "   [Seq2Seq]: office\n",
            "~~\n",
            "[eval_labels_choice]: office\n",
            "[babi:task10k:1]: Sandra went back to the bathroom.\n",
            "Mary moved to the garden.\n",
            "Where is Mary?\n",
            "garden\n",
            "Mary went back to the hallway.\n",
            "Sandra went to the office.\n",
            "Where is Sandra?\n",
            "office\n",
            "John went back to the hallway.\n",
            "John travelled to the office.\n",
            "Where is Sandra?\n",
            "office\n",
            "Sandra journeyed to the hallway.\n",
            "Daniel moved to the office.\n",
            "Where is John?\n",
            "office\n",
            "Mary went to the office.\n",
            "Sandra went to the office.\n",
            "Where is John?\n",
            "[eval_labels: office]\n",
            "[label_candidates: bedroom|garden|hallway|kitchen|office|...and 1 more]\n",
            "   [Seq2Seq]: office\n",
            "- - - - - - - - - - - - - - - - - - - - -\n",
            "~~\n"
          ],
          "name": "stdout"
        }
      ]
    },
    {
      "cell_type": "markdown",
      "metadata": {
        "id": "DaX_GSktxrz1"
      },
      "source": [
        "### Ranking model: memory network\n",
        "\n",
        "We saw in the class that Memory Networks ([Sukhbaatar et al. 15'](https://papers.nips.cc/paper/5846-end-to-end-memory-networks.pdf)) rely on an explicit memory \"database\". this is especially adapted to tasks where a few useful memories are \"hidden\" among distractor memories.  \n",
        "These type of networks worktherefore  especially well for the bAbI tasks by turning the previous dialog turns as memories and the question as the query.  \n",
        "Here is an illustration of how a memory network work:\n",
        "\n",
        "![Memory Network schema](https://raw.githubusercontent.com/louismartin/ammi-2019-bordes-DeepNLP/master/lab1/memory_network.png)\n",
        "\n",
        "\n",
        "---\n",
        "**Question 4**  \n",
        "- **4.d.** Explain how hops work in a memory network (either with words or formulas using the notations of the above figure)\n",
        "- **4.e.** How can a memory network be used to rank multiple candidates?  \n",
        "  (*hint: you can look at the [implementation](https://github.com/facebookresearch/ParlAI/blob/6bd0e58692b3fd3a13b5f654944525ac1b7cd8e3/parlai/agents/memnn/modules.py#L22) of the memory network in ParlAI and especially the `_score()` method. Recall how the IR baseline worked.*)\n",
        "  \n",
        "#*ANSWER HERE*\n",
        "\n",
        "4.d. The memory network is a model that can be seen as a version of RNNsearch with multiple computational steps (which we term\n",
        "“hops”) per output symbol. THE model takes a discrete set of inputs x1, ..., xn that are to be stored in the memory, a query q, and\n",
        "outputs an answer A. Each of the xi\n",
        ", q, and A contains symbols coming from a dictionary with V\n",
        "words. The model writes all x to the memory up to a fixed buffer size, and then finds a continuous representation for the x and q (embeddings).In the embedding space, we compute\n",
        "the match between u and each memory mi by taking the inner product followed by a softmax:\n",
        "pi = Softmax(uTmi).The response vector from the memory o is then a\n",
        "sum over the transformed inputs ci\n",
        ", weighted by the probability vector from the input. This is the output of memory representation. The hops alllow to have new representation of the memory vector based in the precedent representation. in The continuous representation is then processed via multiple hops to have the final output a. \n",
        "\n",
        "4.e For ranking multiples candidates, the memory network use the output representations to compute the softmax of  the inner product beetween  each output representation(the weighted average of our inputs ) and each candidate of answer. "
      ]
    },
    {
      "cell_type": "markdown",
      "metadata": {
        "id": "YHICORdji1Cx"
      },
      "source": [
        "\n",
        "- **4.f.** Using the ParlAI implementation, train a memory network on bAbI tasks 1, 2 and 3 (10k) and compare its results with the baselines.  \n",
        "   (*hint: use a 1 thread, a batch size of 32 and 5 epochs*)\n"
      ]
    },
    {
      "cell_type": "code",
      "metadata": {
        "id": "iKeyD3UYsaFs"
      },
      "source": [
        "# FILL CELL\n",
        "for i in range(3):\n",
        "    print(f'~ Task {i+1} ~')\n",
        "    # FILL CODE HERE"
      ],
      "execution_count": null,
      "outputs": []
    },
    {
      "cell_type": "code",
      "metadata": {
        "colab": {
          "base_uri": "https://localhost:8080/"
        },
        "id": "oz-9_k5fUdH3",
        "outputId": "3c42a61d-c729-4b34-e37a-0be9adbb27b9"
      },
      "source": [
        "# SOLUTION\n",
        "for i in range(3):\n",
        "    print(f'~ Task {i+1} ~')\n",
        "    !python ~/ParlAI/examples/train_model.py -t babi:task10k:{i+1} -m memnn -mf /tmp/babi{i+1}_memnn -bs 32 -eps 5 | grep \"'accuracy':\""
      ],
      "execution_count": null,
      "outputs": [
        {
          "output_type": "stream",
          "text": [
            "~ Task 1 ~\n",
            "Building dictionary: 100% 9.00k/9.00k [00:00<00:00, 23.7kex/s]\n",
            "/usr/local/lib/python3.7/dist-packages/torch/nn/_reduction.py:42: UserWarning: size_average and reduce args will be deprecated, please use reduction='sum' instead.\n",
            "  warnings.warn(warning.format(ret))\n",
            "/root/ParlAI/parlai/core/torch_ranker_agent.py:376: UserWarning: [ Executing train mode with provided inline set of candidates ]\n",
            "  ''.format(mode)\n",
            "/root/ParlAI/parlai/core/torch_ranker_agent.py:214: UserWarning: Some training metrics are omitted for speed. Set the flag `--train-predict` to calculate train metrics.\n",
            "  \"Some training metrics are omitted for speed. Set the flag \"\n",
            "/root/ParlAI/parlai/core/torch_ranker_agent.py:376: UserWarning: [ Executing eval mode with provided inline set of candidates ]\n",
            "  ''.format(mode)\n",
            "valid:{'exs': 1000, 'accuracy': 0.982, 'f1': 0.982, 'hits@1': 0.982, 'hits@5': 0.999, 'hits@10': 1.0, 'hits@100': 1.0, 'bleu': 9.82e-10, 'lr': 1, 'num_updates': 1407, 'examples': 1000, 'loss': 78.24, 'mean_loss': 0.07824, 'mean_rank': 1.029}\n",
            "test:{'exs': 1000, 'accuracy': 0.975, 'f1': 0.975, 'hits@1': 0.975, 'hits@5': 0.999, 'hits@10': 1.0, 'hits@100': 1.0, 'bleu': 9.75e-10, 'lr': 1, 'num_updates': 1407, 'examples': 1000, 'loss': 80.61, 'mean_loss': 0.08061, 'mean_rank': 1.035}\n",
            "~ Task 2 ~\n",
            "Building dictionary: 100% 9.00k/9.00k [00:00<00:00, 17.5kex/s]\n",
            "/usr/local/lib/python3.7/dist-packages/torch/nn/_reduction.py:42: UserWarning: size_average and reduce args will be deprecated, please use reduction='sum' instead.\n",
            "  warnings.warn(warning.format(ret))\n",
            "/root/ParlAI/parlai/core/torch_ranker_agent.py:376: UserWarning: [ Executing train mode with provided inline set of candidates ]\n",
            "  ''.format(mode)\n",
            "/root/ParlAI/parlai/core/torch_ranker_agent.py:214: UserWarning: Some training metrics are omitted for speed. Set the flag `--train-predict` to calculate train metrics.\n",
            "  \"Some training metrics are omitted for speed. Set the flag \"\n",
            "/root/ParlAI/parlai/core/torch_ranker_agent.py:376: UserWarning: [ Executing eval mode with provided inline set of candidates ]\n",
            "  ''.format(mode)\n",
            "valid:{'exs': 1000, 'accuracy': 0.196, 'f1': 0.196, 'hits@1': 0.196, 'hits@5': 0.851, 'hits@10': 1.0, 'hits@100': 1.0, 'bleu': 1.96e-10, 'lr': 1, 'num_updates': 1407, 'examples': 1000, 'loss': 2962.0, 'mean_loss': 2.962, 'mean_rank': 3.348}\n",
            "test:{'exs': 1000, 'accuracy': 0.22, 'f1': 0.22, 'hits@1': 0.22, 'hits@5': 0.882, 'hits@10': 1.0, 'hits@100': 1.0, 'bleu': 2.2e-10, 'lr': 1, 'num_updates': 1407, 'examples': 1000, 'loss': 2803.0, 'mean_loss': 2.803, 'mean_rank': 3.249}\n",
            "~ Task 3 ~\n",
            "Building dictionary: 100% 9.00k/9.00k [00:01<00:00, 8.03kex/s]\n",
            "/usr/local/lib/python3.7/dist-packages/torch/nn/_reduction.py:42: UserWarning: size_average and reduce args will be deprecated, please use reduction='sum' instead.\n",
            "  warnings.warn(warning.format(ret))\n",
            "/root/ParlAI/parlai/core/torch_ranker_agent.py:376: UserWarning: [ Executing train mode with provided inline set of candidates ]\n",
            "  ''.format(mode)\n",
            "/root/ParlAI/parlai/core/torch_ranker_agent.py:214: UserWarning: Some training metrics are omitted for speed. Set the flag `--train-predict` to calculate train metrics.\n",
            "  \"Some training metrics are omitted for speed. Set the flag \"\n",
            "/root/ParlAI/parlai/core/torch_ranker_agent.py:376: UserWarning: [ Executing eval mode with provided inline set of candidates ]\n",
            "  ''.format(mode)\n",
            "valid:{'exs': 1000, 'accuracy': 0.376, 'f1': 0.376, 'hits@1': 0.376, 'hits@5': 0.981, 'hits@10': 1.0, 'hits@100': 1.0, 'bleu': 3.76e-10, 'lr': 1, 'num_updates': 1407, 'examples': 1000, 'loss': 1868.0, 'mean_loss': 1.868, 'mean_rank': 2.482}\n",
            "test:{'exs': 1000, 'accuracy': 0.385, 'f1': 0.385, 'hits@1': 0.385, 'hits@5': 0.98, 'hits@10': 1.0, 'hits@100': 1.0, 'bleu': 3.85e-10, 'lr': 1, 'num_updates': 1407, 'examples': 1000, 'loss': 1871.0, 'mean_loss': 1.871, 'mean_rank': 2.359}\n"
          ],
          "name": "stdout"
        }
      ]
    },
    {
      "cell_type": "markdown",
      "metadata": {
        "id": "DHH0Wy34o3_W"
      },
      "source": [
        "## 5. To go further"
      ]
    },
    {
      "cell_type": "markdown",
      "metadata": {
        "id": "zaNGupqLssUB"
      },
      "source": [
        "If you want to go further you can try to do the following:\n",
        "\n",
        "- Retrieve and plot the attention of the memory network for the different hops along the memories.\n",
        "- For the seq2seq model, can you plot the training loss? The validation loss? Both on the same plot?\n",
        "- Can you show an example of overfitting?\n",
        "- Adapt the seq2seq model for ranking using the [torch ranker tutorial](http://www.parl.ai/static/docs/tutorial_torch_ranker_agent.html)\n",
        "- Try multitasking babi and squad, does it improve the performance? (this will require more GPU power than what is available in google colab)\n",
        "- You can play around with other models and other tasks\n",
        "- Try interfacing ParlAI with [messenger](http://www.parl.ai/static/docs/tutorial_messenger.html )"
      ]
    }
  ]
}